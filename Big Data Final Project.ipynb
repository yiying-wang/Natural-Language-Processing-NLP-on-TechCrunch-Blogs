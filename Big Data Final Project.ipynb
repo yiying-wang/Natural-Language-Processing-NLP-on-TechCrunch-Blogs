{
 "cells": [
  {
   "cell_type": "markdown",
   "metadata": {},
   "source": [
    "# Final Project: Identify Influential Bogs & Make Profits for TechCrunch\n",
    "### Group Super Duper: Yuanyuan Ge, Joey Li, Yijun Huang,Yining Hang, Yiying Wang\n",
    "\n",
    "#### This notebook takes data of 107 authors, their 19464 posts and all 746561 comments and performed following analysis with Pyspark:\n",
    "* Topic Modeling on Posts\n",
    "* Comments Sentiment Analysis\n",
    "* Writing Style Identification\n",
    "* Regression with MLlib\n"
   ]
  },
  {
   "cell_type": "code",
   "execution_count": 2,
   "metadata": {},
   "outputs": [
    {
     "name": "stderr",
     "output_type": "stream",
     "text": [
      "[nltk_data] Downloading package cmudict to\n",
      "[nltk_data]     C:\\Users\\lzzse\\AppData\\Roaming\\nltk_data...\n",
      "[nltk_data]   Package cmudict is already up-to-date!\n",
      "[nltk_data] Downloading package stopwords to\n",
      "[nltk_data]     C:\\Users\\lzzse\\AppData\\Roaming\\nltk_data...\n",
      "[nltk_data]   Package stopwords is already up-to-date!\n",
      "[nltk_data] Downloading package punkt to\n",
      "[nltk_data]     C:\\Users\\lzzse\\AppData\\Roaming\\nltk_data...\n",
      "[nltk_data]   Package punkt is already up-to-date!\n"
     ]
    }
   ],
   "source": [
    "# First of all import all required packages:\n",
    "\n",
    "import numpy as np\n",
    "import pandas as pd\n",
    "import re\n",
    "from pprint import pprint\n",
    "import scipy\n",
    "from textblob import TextBlob # Import TextBlob packages for Sentiment Analysis\n",
    "import collections as coll\n",
    "import math\n",
    "import pickle\n",
    "import string\n",
    "import matplotlib.pyplot as plt\n",
    "from matplotlib import style\n",
    "\n",
    "import nltk\n",
    "nltk.download('cmudict')\n",
    "nltk.download('stopwords')\n",
    "nltk.download('punkt')\n",
    "from nltk.corpus import cmudict\n",
    "from nltk.corpus import stopwords\n",
    "from nltk.tokenize import word_tokenize, sent_tokenize\n",
    "\n",
    "import pyspark as ps\n",
    "from pyspark.sql import functions as F\n",
    "from pyspark.sql import SparkSession \n",
    "from pyspark.sql.types import DoubleType, FloatType, StringType\n",
    "from pyspark.ml.feature import VectorAssembler\n",
    "from pyspark.ml.feature import StandardScaler\n",
    "from pyspark.ml.tuning import TrainValidationSplit, ParamGridBuilder, CrossValidator\n",
    "from pyspark.ml.regression import LinearRegression\n",
    "from pyspark.ml.evaluation import RegressionEvaluator\n",
    "from pyspark.ml.regression import LinearRegression\n",
    "from pyspark.ml.regression import DecisionTreeRegressor\n",
    "from pyspark.ml.regression import GBTRegressor\n",
    "from pyspark.ml.feature import OneHotEncoder\n",
    "from pyspark.sql.window import Window\n",
    "from pyspark.sql.functions import *\n",
    "from pyspark.sql.functions import col, udf\n",
    "from pyspark.ml.feature import RegexTokenizer\n",
    "from pyspark.ml.feature import StopWordsRemover\n",
    "import org.apache.spark.ml.feature.CountVectorizer\n",
    "import org.apache.spark.mllib.linalg.Vector\n",
    "import org.apache.spark.mllib.clustering.LDA, nlineLDAOptimizer\n",
    "\n",
    "# Gensim\n",
    "import gensim\n",
    "import gensim.corpora as corpora\n",
    "from gensim.utils import simple_preprocess\n",
    "from gensim.models import CoherenceModel\n",
    "\n",
    "# Plotting tools\n",
    "import pyLDAvis\n",
    "import pyLDAvis.gensim  # don't skip this\n",
    "import matplotlib.pyplot as plt\n",
    "\n",
    "# Enable logging for gensim\n",
    "import logging\n",
    "logging.basicConfig(format='%(asctime)s : %(levelname)s : %(message)s', level=logging.ERROR)\n",
    "\n",
    "import warnings\n",
    "warnings.filterwarnings(\"ignore\",category=DeprecationWarning)\n",
    "\n",
    "%matplotlib inline\n",
    "%load_ext autotime"
   ]
  },
  {
   "cell_type": "code",
   "execution_count": 3,
   "metadata": {
    "scrolled": true
   },
   "outputs": [
    {
     "name": "stdout",
     "output_type": "stream",
     "text": [
      "time: 5 ms\n"
     ]
    }
   ],
   "source": [
    "conf = ps.SparkConf().setMaster(\"yarn-client\").setAppName(\"sparK-mer\")\n",
    "conf.set(\"spark.driver.memory\", \"15g\")\n",
    "conf.set(\"spark.executor.heartbeatInterval\",\"3600s\")\n",
    "\n",
    "spark = SparkSession\\\n",
    "        .builder\\\n",
    "        .appName('final')\\\n",
    "        .getOrCreate()"
   ]
  },
  {
   "cell_type": "markdown",
   "metadata": {},
   "source": [
    "# Comments Sentiment Analysis"
   ]
  },
  {
   "cell_type": "markdown",
   "metadata": {},
   "source": [
    "### Load the comments data"
   ]
  },
  {
   "cell_type": "code",
   "execution_count": 4,
   "metadata": {},
   "outputs": [],
   "source": [
    "comments = spark.read.format(\"csv\").option(\"header\", \"false\").load(\"comments.csv\")"
   ]
  },
  {
   "cell_type": "code",
   "execution_count": 5,
   "metadata": {},
   "outputs": [],
   "source": [
    "comments = comments.withColumnRenamed(\"_c0\", \"Comment ID\")\\\n",
    "        .withColumnRenamed(\"_c1\", \"Post ID\")\\\n",
    "        .withColumnRenamed(\"_c2\", \"Content\")\\\n",
    "        .withColumnRenamed(\"_c3\", \"Author\")\\\n",
    "        .withColumnRenamed(\"_c4\", \"Date\")\\\n",
    "        .withColumnRenamed(\"_c5\", \"Vote\")"
   ]
  },
  {
   "cell_type": "code",
   "execution_count": 6,
   "metadata": {},
   "outputs": [
    {
     "name": "stdout",
     "output_type": "stream",
     "text": [
      "+----------+-------+--------------------+--------------+----------+----+\n",
      "|Comment ID|Post ID|             Content|        Author|      Date|Vote|\n",
      "+----------+-------+--------------------+--------------+----------+----+\n",
      "|         1|      1|Seemed to work fine.|       BJ Cook|2010-04-01|   1|\n",
      "|         2|      1|I tried this the ...|  Blitz Surfer|2010-04-01|   1|\n",
      "|         3|      1|A lot of twitter ...|Nischal Shetty|2010-04-01|   1|\n",
      "|         4|      1|Worked a minute a...|   Jonah Grant|2010-04-01|   1|\n",
      "|         5|      1|Yep. At 10:33pm p...| Joshua Guffey|2010-04-01|   1|\n",
      "+----------+-------+--------------------+--------------+----------+----+\n",
      "only showing top 5 rows\n",
      "\n"
     ]
    }
   ],
   "source": [
    "comments.show(5)"
   ]
  },
  {
   "cell_type": "code",
   "execution_count": 7,
   "metadata": {},
   "outputs": [],
   "source": [
    "comments = comments.dropna()"
   ]
  },
  {
   "cell_type": "code",
   "execution_count": 8,
   "metadata": {
    "scrolled": true
   },
   "outputs": [
    {
     "data": {
      "text/plain": [
       "745866"
      ]
     },
     "execution_count": 8,
     "metadata": {},
     "output_type": "execute_result"
    }
   ],
   "source": [
    "comments.count()"
   ]
  },
  {
   "cell_type": "markdown",
   "metadata": {},
   "source": [
    "### Text Preprocessing"
   ]
  },
  {
   "cell_type": "markdown",
   "metadata": {},
   "source": [
    "#### Fixed abbreviation"
   ]
  },
  {
   "cell_type": "code",
   "execution_count": 12,
   "metadata": {},
   "outputs": [],
   "source": [
    "def fix_abbreviation(data_str):\n",
    "    data_str = data_str.lower()\n",
    "    data_str = re.sub(r'\\bthats\\b', 'that is', data_str)\n",
    "    data_str = re.sub(r'\\bive\\b', 'i have', data_str)\n",
    "    data_str = re.sub(r'\\bim\\b', 'i am', data_str)\n",
    "    data_str = re.sub(r'\\bya\\b', 'yeah', data_str)\n",
    "    data_str = re.sub(r'\\bcant\\b', 'can not', data_str)\n",
    "    data_str = re.sub(r'\\bdont\\b', 'do not', data_str)\n",
    "    data_str = re.sub(r'\\bwont\\b', 'will not', data_str)\n",
    "    data_str = re.sub(r'\\bid\\b', 'i would', data_str)\n",
    "    data_str = re.sub(r'wtf', 'what the fuck', data_str)\n",
    "    data_str = re.sub(r'\\bwth\\b', 'what the hell', data_str)\n",
    "    data_str = re.sub(r'\\br\\b', 'are', data_str)\n",
    "    data_str = re.sub(r'\\bu\\b', 'you', data_str)\n",
    "    data_str = re.sub(r'\\bk\\b', 'OK', data_str)\n",
    "    data_str = re.sub(r'\\bsux\\b', 'sucks', data_str)\n",
    "    data_str = re.sub(r'\\bno+\\b', 'no', data_str)\n",
    "    data_str = re.sub(r'\\bcoo+\\b', 'cool', data_str)\n",
    "    data_str = re.sub(r'rt\\b', '', data_str)\n",
    "    data_str = data_str.strip()\n",
    "    return data_str\n",
    "\n",
    "fix_abbreviation_udf = F.udf(fix_abbreviation, StringType())"
   ]
  },
  {
   "cell_type": "code",
   "execution_count": 13,
   "metadata": {},
   "outputs": [
    {
     "name": "stdout",
     "output_type": "stream",
     "text": [
      "+----------+-------+--------------------+--------------+----------+----+--------------------+\n",
      "|Comment ID|Post ID|             Content|        Author|      Date|Vote|        fixed_abbrev|\n",
      "+----------+-------+--------------------+--------------+----------+----+--------------------+\n",
      "|         1|      1|Seemed to work fine.|       BJ Cook|2010-04-01|   1|seemed to work fine.|\n",
      "|         2|      1|I tried this the ...|  Blitz Surfer|2010-04-01|   1|i tried this the ...|\n",
      "|         3|      1|A lot of twitter ...|Nischal Shetty|2010-04-01|   1|a lot of twitter ...|\n",
      "|         4|      1|Worked a minute a...|   Jonah Grant|2010-04-01|   1|worked a minute a...|\n",
      "|         5|      1|Yep. At 10:33pm p...| Joshua Guffey|2010-04-01|   1|yep. at 10:33pm p...|\n",
      "+----------+-------+--------------------+--------------+----------+----+--------------------+\n",
      "only showing top 5 rows\n",
      "\n"
     ]
    }
   ],
   "source": [
    "comments = comments.withColumn('fixed_abbrev',fix_abbreviation_udf(comments['Content']))\n",
    "comments.show(5)"
   ]
  },
  {
   "cell_type": "markdown",
   "metadata": {},
   "source": [
    "#### Remove irrelevant features"
   ]
  },
  {
   "cell_type": "code",
   "execution_count": 14,
   "metadata": {},
   "outputs": [],
   "source": [
    "def remove_features(data_str):\n",
    "    # compile regex\n",
    "    url_re = re.compile('https?://(www.)?\\w+\\.\\w+(/\\w+)*/?')\n",
    "    punc_re = re.compile('[%s]' % re.escape(string.punctuation))\n",
    "    num_re = re.compile('(\\\\d+)')\n",
    "    mention_re = re.compile('@(\\w+)')\n",
    "    alpha_num_re = re.compile(\"^[a-z0-9_.]+$\")\n",
    "    # convert to lowercase\n",
    "    data_str = data_str.lower()\n",
    "    # remove hyperlinks\n",
    "    data_str = url_re.sub(' ', data_str)\n",
    "    # remove @mentions\n",
    "    data_str = mention_re.sub(' ', data_str)\n",
    "    # remove puncuation\n",
    "    data_str = punc_re.sub(' ', data_str)\n",
    "    # remove numeric 'words'\n",
    "    data_str = num_re.sub(' ', data_str)\n",
    "    # remove non a-z 0-9 characters and words shorter than 1 characters\n",
    "    list_pos = 0\n",
    "    cleaned_str = ''\n",
    "    for word in data_str.split():\n",
    "        if list_pos == 0:\n",
    "            if alpha_num_re.match(word) and len(word) > 1:\n",
    "                cleaned_str = word\n",
    "            else:\n",
    "                cleaned_str = ' '\n",
    "        else:\n",
    "            if alpha_num_re.match(word) and len(word) > 1:\n",
    "                cleaned_str = cleaned_str + ' ' + word\n",
    "            else:\n",
    "                cleaned_str += ' '\n",
    "        list_pos += 1\n",
    "    # remove unwanted space, *.split() will automatically split on\n",
    "    # whitespace and discard duplicates, the \" \".join() joins the\n",
    "    # resulting list into one string.\n",
    "    return \" \".join(cleaned_str.split())\n",
    "\n",
    "remove_features_udf = F.udf(remove_features, StringType())"
   ]
  },
  {
   "cell_type": "code",
   "execution_count": 16,
   "metadata": {},
   "outputs": [
    {
     "name": "stdout",
     "output_type": "stream",
     "text": [
      "+----------+-------+--------------------+--------------+----------+----+--------------------+--------------------+\n",
      "|Comment ID|Post ID|             Content|        Author|      Date|Vote|        fixed_abbrev|             removed|\n",
      "+----------+-------+--------------------+--------------+----------+----+--------------------+--------------------+\n",
      "|         1|      1|Seemed to work fine.|       BJ Cook|2010-04-01|   1|seemed to work fine.| seemed to work fine|\n",
      "|         2|      1|I tried this the ...|  Blitz Surfer|2010-04-01|   1|i tried this the ...|tried this the fi...|\n",
      "|         3|      1|A lot of twitter ...|Nischal Shetty|2010-04-01|   1|a lot of twitter ...|lot of twitter ap...|\n",
      "|         4|      1|Worked a minute a...|   Jonah Grant|2010-04-01|   1|worked a minute a...|worked minute ago...|\n",
      "|         5|      1|Yep. At 10:33pm p...| Joshua Guffey|2010-04-01|   1|yep. at 10:33pm p...|yep at pm pst it ...|\n",
      "+----------+-------+--------------------+--------------+----------+----+--------------------+--------------------+\n",
      "only showing top 5 rows\n",
      "\n"
     ]
    }
   ],
   "source": [
    "comments = comments.withColumn('removed',remove_features_udf(comments['Content']))\n",
    "comments.show(5, True)"
   ]
  },
  {
   "cell_type": "markdown",
   "metadata": {},
   "source": [
    "### Sentiment Analysis main function"
   ]
  },
  {
   "cell_type": "code",
   "execution_count": 18,
   "metadata": {},
   "outputs": [],
   "source": [
    "def sentiment_analysis(text):\n",
    "    return TextBlob(text).sentiment.polarity\n",
    "\n",
    "sentiment_analysis_udf = F.udf(sentiment_analysis , FloatType())"
   ]
  },
  {
   "cell_type": "code",
   "execution_count": 19,
   "metadata": {},
   "outputs": [
    {
     "name": "stdout",
     "output_type": "stream",
     "text": [
      "+----------+-------+--------------------+--------------+----------+----+---------------+\n",
      "|Comment ID|Post ID|             Content|        Author|      Date|Vote|sentiment_score|\n",
      "+----------+-------+--------------------+--------------+----------+----+---------------+\n",
      "|         1|      1|Seemed to work fine.|       BJ Cook|2010-04-01|   1|     0.41666666|\n",
      "|         2|      1|I tried this the ...|  Blitz Surfer|2010-04-01|   1|          0.125|\n",
      "|         3|      1|A lot of twitter ...|Nischal Shetty|2010-04-01|   1|            0.5|\n",
      "|         4|      1|Worked a minute a...|   Jonah Grant|2010-04-01|   1|            0.0|\n",
      "|         5|      1|Yep. At 10:33pm p...| Joshua Guffey|2010-04-01|   1|     0.20888889|\n",
      "+----------+-------+--------------------+--------------+----------+----+---------------+\n",
      "only showing top 5 rows\n",
      "\n"
     ]
    }
   ],
   "source": [
    "comments  = comments.withColumn(\"sentiment_score\", sentiment_analysis_udf( comments['fixed_abbrev'] ))\n",
    "comments = comments.drop('fixed_abbrev').drop('removed')\n",
    "comments.show(5,True)"
   ]
  },
  {
   "cell_type": "markdown",
   "metadata": {},
   "source": [
    "### Get the Average Sentiment Score for each Post"
   ]
  },
  {
   "cell_type": "code",
   "execution_count": 23,
   "metadata": {},
   "outputs": [],
   "source": [
    "post_sentiment= comments.groupBy(['Post ID']).agg(F.avg('sentiment_score').alias('avg_senti_score'))"
   ]
  },
  {
   "cell_type": "code",
   "execution_count": 24,
   "metadata": {},
   "outputs": [
    {
     "name": "stdout",
     "output_type": "stream",
     "text": [
      "+-------+-------------------+\n",
      "|Post ID|    avg_senti_score|\n",
      "+-------+-------------------+\n",
      "|    675| 0.0335309744157173|\n",
      "|   5925|0.11772260677231394|\n",
      "|    691|0.11745779495686293|\n",
      "|   6194| 0.1919174811582228|\n",
      "|   6240|0.13226061725081542|\n",
      "+-------+-------------------+\n",
      "only showing top 5 rows\n",
      "\n"
     ]
    }
   ],
   "source": [
    "post_sentiment.show(5)"
   ]
  },
  {
   "cell_type": "code",
   "execution_count": 25,
   "metadata": {},
   "outputs": [],
   "source": [
    "post_sentiment.toPandas().to_csv('post_sentiment.csv')"
   ]
  },
  {
   "cell_type": "markdown",
   "metadata": {},
   "source": [
    "# Topic Modeling on Posts\n",
    "#### Perform topic modeling on all posts and for each post, assign a topic. The results will be output as post_topicmodeling.csv"
   ]
  },
  {
   "cell_type": "code",
   "execution_count": 101,
   "metadata": {},
   "outputs": [
    {
     "name": "stdout",
     "output_type": "stream",
     "text": [
      "time: 237 ms\n"
     ]
    }
   ],
   "source": [
    "post1 = spark.read.format(\"csv\").option(\"header\", \"false\").load(\"posts.csv\")"
   ]
  },
  {
   "cell_type": "code",
   "execution_count": 103,
   "metadata": {},
   "outputs": [
    {
     "name": "stdout",
     "output_type": "stream",
     "text": [
      "time: 31.3 ms\n"
     ]
    }
   ],
   "source": [
    "post11 = post1.withColumnRenamed(\"_c0\", \"Post ID\")\\\n",
    "        .withColumnRenamed(\"_c1\", \"Title\")\\\n",
    "        .withColumnRenamed(\"_c2\", \"Author\")\\\n",
    "        .withColumnRenamed(\"_c3\", \"BloggerID\")\\\n",
    "        .withColumnRenamed(\"_c4\", \"num_of_comments\")\\\n",
    "        .withColumnRenamed(\"_c5\", \"content\")\\\n",
    "        .withColumnRenamed(\"_c6\", \"URL\")\\"
   ]
  },
  {
   "cell_type": "code",
   "execution_count": 114,
   "metadata": {},
   "outputs": [
    {
     "name": "stdout",
     "output_type": "stream",
     "text": [
      "+-------+--------------------+--------------------+\n",
      "|Post ID|             content|          text_token|\n",
      "+-------+--------------------+--------------------+\n",
      "|      1|During his keynot...|[during, his, key...|\n",
      "|      2|Later this month ...|[later, this, mon...|\n",
      "|      3|A NYTimes communi...|[a, nytimes, comm...|\n",
      "+-------+--------------------+--------------------+\n",
      "only showing top 3 rows\n",
      "\n",
      "time: 126 ms\n"
     ]
    }
   ],
   "source": [
    "# Give tokens for each post\n",
    "regexTokenizer = RegexTokenizer(gaps=False, pattern='\\w+', inputCol='content', outputCol='text_token')\n",
    "\n",
    "post11 = regexTokenizer.transform(post11)\n",
    "post11.select('Post ID', 'content', 'text_token').show(3, truncate=True)"
   ]
  },
  {
   "cell_type": "code",
   "execution_count": 136,
   "metadata": {},
   "outputs": [
    {
     "name": "stdout",
     "output_type": "stream",
     "text": [
      "+--------------------+--------------------+\n",
      "|          text_token|     text_sw_removed|\n",
      "+--------------------+--------------------+\n",
      "|[during, his, key...|[keynote, sxsw, l...|\n",
      "|[later, this, mon...|[later, month, fa...|\n",
      "|[a, nytimes, comm...|[nytimes, communi...|\n",
      "+--------------------+--------------------+\n",
      "only showing top 3 rows\n",
      "\n",
      "time: 258 ms\n"
     ]
    }
   ],
   "source": [
    "# Remove the stopwords from the posts contents\n",
    "stopWordsRemover = StopWordsRemover(inputCol=\"text_token\", outputCol = 'text_sw_removed')\n",
    "RemoveDF = stopWordsRemover.transform(TokenDF)\n",
    "RemoveDF.select('text_token', 'text_sw_removed').show(3, truncate = True)"
   ]
  },
  {
   "cell_type": "code",
   "execution_count": 80,
   "metadata": {},
   "outputs": [
    {
     "name": "stdout",
     "output_type": "stream",
     "text": [
      "time: 1e+03 µs\n"
     ]
    }
   ],
   "source": [
    "vectorizer =CountVectorizer()\n",
    "  .setInputCol(\"text_sw_removed\")\n",
    "  .setOutputCol(\"features\")\n",
    "  .setVocabSize(10000)\n",
    "  .setMinDF(5)\n",
    "  .fit(RemoveDF)\n",
    "\n",
    "corpus=vectorizer.transform(RemoveDF).select(\"id\", \"features\")\n",
    "text=vectorizer.transform(RemoveDF).select('text_sw_removed')"
   ]
  },
  {
   "cell_type": "code",
   "execution_count": 83,
   "metadata": {},
   "outputs": [
    {
     "name": "stdout",
     "output_type": "stream",
     "text": [
      "time: 1 ms\n"
     ]
    }
   ],
   "source": [
    "dictionary=countVectors.map { case Row(id: Long, countVector: Vector) => (id, countVector) }"
   ]
  },
  {
   "cell_type": "code",
   "execution_count": 86,
   "metadata": {},
   "outputs": [
    {
     "name": "stdout",
     "output_type": "stream",
     "text": [
      "time: 1.03 ms\n"
     ]
    }
   ],
   "source": [
    "#Build LDA Model\n",
    "# Set LDA params\n",
    "lda =LDA()\n",
    "  .setOptimizer(new OnlineLDAOptimizer().setMiniBatchFraction(0.8))\n",
    "  .setK(20)\n",
    "  .setMaxIterations(3)\n",
    "  .setDocConcentration(-1) # use default values\n",
    "  .setTopicConcentration(-1) # use default values"
   ]
  },
  {
   "cell_type": "code",
   "execution_count": 91,
   "metadata": {},
   "outputs": [
    {
     "name": "stdout",
     "output_type": "stream",
     "text": [
      "time: 1.04 ms\n"
     ]
    }
   ],
   "source": [
    "ldaModel = lda.run(RemoveDF)"
   ]
  },
  {
   "cell_type": "code",
   "execution_count": 96,
   "metadata": {},
   "outputs": [
    {
     "name": "stdout",
     "output_type": "stream",
     "text": [
      "time: 1 ms\n"
     ]
    }
   ],
   "source": [
    "def compute_coherence_values(dictionary, corpus, texts, limit, start=2, step=3):\n",
    "    \"\"\"\n",
    "    Compute c_v coherence for various number of topics\n",
    "\n",
    "    Parameters:\n",
    "    ----------\n",
    "    dictionary : Gensim dictionary\n",
    "    corpus : Gensim corpus\n",
    "    texts : List of input texts\n",
    "    limit : Max num of topics\n",
    "\n",
    "    Returns:\n",
    "    -------\n",
    "    model_list : List of LDA topic models\n",
    "    coherence_values : Coherence values corresponding to the LDA model with respective number of topics\n",
    "    \"\"\"\n",
    "    coherence_values = []\n",
    "    model_list = []\n",
    "    for num_topics in range(start, limit, step):\n",
    "        model = gensim.models.wrappers.LdaMallet(mallet_path, corpus=corpus, num_topics=num_topics, id2word=id2word)\n",
    "        model_list.append(model)\n",
    "        coherencemodel = CoherenceModel(model=model, texts=texts, dictionary=dictionary, coherence='c_v')\n",
    "        coherence_values.append(coherencemodel.get_coherence())\n",
    "\n",
    "    return model_list, coherence_values"
   ]
  },
  {
   "cell_type": "code",
   "execution_count": 97,
   "metadata": {},
   "outputs": [
    {
     "name": "stdout",
     "output_type": "stream",
     "text": [
      "time: 919 µs\n"
     ]
    }
   ],
   "source": [
    "compute_coherence_values_udf=F.udf(compute_coherence_values, StringType())\n",
    "post11=post11.withColumn(\"model_list\",compute_coherence_values_udf(dictionary=dictionary, corpus=corpus, texts=texts, start=2, limit=40, step=6))"
   ]
  },
  {
   "cell_type": "code",
   "execution_count": 38,
   "metadata": {},
   "outputs": [
    {
     "data": {
      "image/png": "[encoded data removed]",
      "text/plain": [
       "<Figure size 432x288 with 1 Axes>"
      ]
     },
     "metadata": {
      "needs_background": "light"
     },
     "output_type": "display_data"
    },
    {
     "name": "stdout",
     "output_type": "stream",
     "text": [
      "time: 386 ms\n"
     ]
    }
   ],
   "source": [
    "limit=40; start=2; step=6;\n",
    "x = range(start, limit, step)\n",
    "plt.plot(x, coherence_values)\n",
    "plt.xlabel(\"Num Topics\")\n",
    "plt.ylabel(\"Coherence score\")\n",
    "plt.legend((\"coherence_values\"), loc='best')\n",
    "plt.show()\n",
    "# optimal topic number=20"
   ]
  },
  {
   "cell_type": "code",
   "execution_count": 39,
   "metadata": {
    "scrolled": true
   },
   "outputs": [
    {
     "name": "stdout",
     "output_type": "stream",
     "text": [
      "[(0,\n",
      "  '0.137*\"video\" + 0.053*\"content\" + 0.042*\"show\" + 0.030*\"live\" + '\n",
      "  '0.026*\"youtube\" + 0.023*\"watch\" + 0.022*\"tv\" + 0.019*\"web\" + 0.018*\"movie\" '\n",
      "  '+ 0.017*\"medium\"'),\n",
      " (1,\n",
      "  '0.034*\"web\" + 0.031*\"application\" + 0.024*\"service\" + 0.024*\"platform\" + '\n",
      "  '0.021*\"software\" + 0.018*\"customer\" + 0.017*\"datum\" + 0.017*\"product\" + '\n",
      "  '0.016*\"build\" + 0.016*\"developer\"'),\n",
      " (2,\n",
      "  '0.044*\"feature\" + 0.035*\"page\" + 0.027*\"add\" + 0.027*\"user\" + '\n",
      "  '0.024*\"version\" + 0.021*\"web\" + 0.018*\"file\" + 0.017*\"widget\" + '\n",
      "  '0.016*\"browser\" + 0.015*\"create\"'),\n",
      " (3,\n",
      "  '0.048*\"blog\" + 0.045*\"news\" + 0.042*\"post\" + 0.031*\"story\" + '\n",
      "  '0.031*\"comment\" + 0.025*\"write\" + 0.022*\"reader\" + 0.015*\"content\" + '\n",
      "  '0.015*\"link\" + 0.014*\"read\"'),\n",
      " (4,\n",
      "  '0.017*\"issue\" + 0.012*\"case\" + 0.008*\"claim\" + 0.008*\"remove\" + '\n",
      "  '0.007*\"state\" + 0.007*\"change\" + 0.006*\"clear\" + 0.006*\"make\" + '\n",
      "  '0.006*\"term\" + 0.006*\"report\"'),\n",
      " (5,\n",
      "  '0.075*\"app\" + 0.057*\"mobile\" + 0.045*\"game\" + 0.042*\"application\" + '\n",
      "  '0.042*\"apple\" + 0.035*\"phone\" + 0.033*\"store\" + 0.027*\"developer\" + '\n",
      "  '0.021*\"iphone\" + 0.021*\"device\"'),\n",
      " (6,\n",
      "  '0.018*\"world\" + 0.015*\"technology\" + 0.015*\"job\" + 0.014*\"internet\" + '\n",
      "  '0.009*\"make\" + 0.009*\"country\" + 0.008*\"business\" + 0.008*\"work\" + '\n",
      "  '0.007*\"year\" + 0.006*\"industry\"'),\n",
      " (7,\n",
      "  '0.112*\"search\" + 0.042*\"result\" + 0.023*\"information\" + 0.021*\"engine\" + '\n",
      "  '0.019*\"find\" + 0.019*\"review\" + 0.016*\"web\" + 0.014*\"page\" + 0.013*\"map\" + '\n",
      "  '0.012*\"datum\"'),\n",
      " (8,\n",
      "  '0.052*\"people\" + 0.034*\"thing\" + 0.027*\"lot\" + 0.027*\"make\" + 0.023*\"work\" '\n",
      "  '+ 0.020*\"talk\" + 0.019*\"time\" + 0.017*\"question\" + 0.017*\"good\" + '\n",
      "  '0.016*\"big\"'),\n",
      " (9,\n",
      "  '0.114*\"company\" + 0.026*\"raise\" + 0.023*\"startup\" + 0.019*\"investor\" + '\n",
      "  '0.016*\"deal\" + 0.016*\"round\" + 0.016*\"acquisition\" + 0.015*\"fund\" + '\n",
      "  '0.015*\"partner\" + 0.014*\"acquire\"'),\n",
      " (10,\n",
      "  '0.017*\"day\" + 0.017*\"time\" + 0.014*\"make\" + 0.013*\"back\" + 0.013*\"good\" + '\n",
      "  '0.012*\"bad\" + 0.012*\"thing\" + 0.011*\"fact\" + 0.009*\"leave\" + 0.008*\"point\"'),\n",
      " (11,\n",
      "  '0.066*\"service\" + 0.047*\"call\" + 0.043*\"email\" + 0.029*\"send\" + '\n",
      "  '0.026*\"number\" + 0.024*\"message\" + 0.022*\"user\" + 0.021*\"account\" + '\n",
      "  '0.016*\"contact\" + 0.015*\"information\"'),\n",
      " (12,\n",
      "  '0.061*\"music\" + 0.040*\"free\" + 0.026*\"service\" + 0.024*\"book\" + '\n",
      "  '0.020*\"download\" + 0.017*\"pay\" + 0.016*\"play\" + 0.015*\"song\" + '\n",
      "  '0.013*\"offer\" + 0.013*\"make\"'),\n",
      " (13,\n",
      "  '0.018*\"screen\" + 0.016*\"computer\" + 0.015*\"device\" + 0.015*\"work\" + '\n",
      "  '0.010*\"make\" + 0.009*\"window\" + 0.008*\"design\" + 0.008*\"run\" + 0.007*\"good\" '\n",
      "  '+ 0.007*\"camera\"'),\n",
      " (14,\n",
      "  '0.064*\"ad\" + 0.034*\"advertising\" + 0.026*\"network\" + 0.021*\"brand\" + '\n",
      "  '0.021*\"company\" + 0.019*\"business\" + 0.019*\"medium\" + 0.019*\"online\" + '\n",
      "  '0.019*\"publisher\" + 0.016*\"revenue\"'),\n",
      " (15,\n",
      "  '0.181*\"site\" + 0.065*\"user\" + 0.039*\"launch\" + 0.032*\"photo\" + '\n",
      "  '0.030*\"myspace\" + 0.021*\"website\" + 0.018*\"include\" + 0.017*\"crunchbase\" + '\n",
      "  '0.012*\"offer\" + 0.012*\"month\"'),\n",
      " (16,\n",
      "  '0.037*\"event\" + 0.029*\"startup\" + 0.028*\"techcrunch\" + 0.017*\"launch\" + '\n",
      "  '0.014*\"give\" + 0.014*\"week\" + 0.014*\"good\" + 0.013*\"conference\" + '\n",
      "  '0.012*\"day\" + 0.011*\"year\"'),\n",
      " (17,\n",
      "  '0.040*\"year\" + 0.029*\"market\" + 0.024*\"percent\" + 0.022*\"price\" + '\n",
      "  '0.020*\"sale\" + 0.020*\"number\" + 0.019*\"sell\" + 0.018*\"revenue\" + '\n",
      "  '0.017*\"month\" + 0.016*\"pay\"'),\n",
      " (18,\n",
      "  '0.084*\"user\" + 0.060*\"social\" + 0.049*\"network\" + 0.044*\"friend\" + '\n",
      "  '0.031*\"facebook\" + 0.028*\"information\" + 0.024*\"share\" + 0.023*\"profile\" + '\n",
      "  '0.023*\"people\" + 0.020*\"group\"'),\n",
      " (19,\n",
      "  '0.085*\"twitter\" + 0.030*\"time\" + 0.030*\"update\" + 0.024*\"tweet\" + '\n",
      "  '0.024*\"information\" + 0.023*\"twitt\" + 0.021*\"real\" + 0.021*\"follow\" + '\n",
      "  '0.020*\"service\" + 0.019*\"people\"')]\n",
      "time: 16.6 ms\n"
     ]
    }
   ],
   "source": [
    "# Describe topics.\n",
    "topics = ldaModel.describeTopics(10)\n",
    "print(\"The topics described by their top-weighted terms:\")\n",
    "topics.show(truncate=False)"
   ]
  },
  {
   "cell_type": "code",
   "execution_count": 95,
   "metadata": {
    "scrolled": true
   },
   "outputs": [
    {
     "name": "stderr",
     "output_type": "stream",
     "text": [
      "/Users/yiyingwang/anaconda3/lib/python3.7/site-packages/ipykernel_launcher.py:10: SettingWithCopyWarning: \n",
      "A value is trying to be set on a copy of a slice from a DataFrame\n",
      "\n",
      "See the caveats in the documentation: https://pandas.pydata.org/pandas-docs/stable/user_guide/indexing.html#returning-a-view-versus-a-copy\n",
      "  # Remove the CWD from sys.path while we load stuff.\n"
     ]
    },
    {
     "name": "stdout",
     "output_type": "stream",
     "text": [
      "time: 1min 32s\n"
     ]
    }
   ],
   "source": [
    "def format_topics_sentences(ldamodel=ldaModel, corpus=corpus,post=post):\n",
    "    # Init output\n",
    "    post['topic']=0\n",
    "    # Get main topic in each document\n",
    "    for i,row in enumerate(ldamodel[corpus]):\n",
    "        row1=row[0]\n",
    "        row2 = sorted(row1,key=lambda x: (x[1]), reverse=True)\n",
    "        for j, (topic_num, prop_topic) in enumerate(row2):\n",
    "            if j == 0:  # => dominant topic\n",
    "                return topic_num\n",
    "format_topics_sentences_udf=F.udf(format_topics_sentences,StringType())\n",
    "post11=post11.withColumn(\"topic\",format_topics_sentences_udf(ldamodel=ldaModel, corpus=corpus))"
   ]
  },
  {
   "cell_type": "code",
   "execution_count": 101,
   "metadata": {},
   "outputs": [
    {
     "name": "stdout",
     "output_type": "stream",
     "text": [
      "time: 996 µs\n"
     ]
    }
   ],
   "source": [
    "post11.toPandas().to_csv('post_topicmodeling.csv')"
   ]
  },
  {
   "cell_type": "markdown",
   "metadata": {},
   "source": [
    "# Writing Style Identification"
   ]
  },
  {
   "cell_type": "markdown",
   "metadata": {
    "colab_type": "text",
    "id": "ChQK0_8ubRiW"
   },
   "source": [
    "### Load the posts data"
   ]
  },
  {
   "cell_type": "code",
   "execution_count": 0,
   "metadata": {
    "colab": {},
    "colab_type": "code",
    "id": "1mKxleHrBtkT"
   },
   "outputs": [],
   "source": [
    "posts = spark\\\n",
    "        .read\\\n",
    "        .option('header','false')\\\n",
    "        .option('inferSchema','true')\\\n",
    "        .csv(r'posts.csv')"
   ]
  },
  {
   "cell_type": "code",
   "execution_count": 0,
   "metadata": {
    "colab": {},
    "colab_type": "code",
    "id": "glZSN7LefgMS"
   },
   "outputs": [],
   "source": [
    "colnames=['Post_ID','Title','Blogger_Name','Blogger_ID','Number of comments','Content','URL','Date',\n",
    "          'Number of retrieved inlinks','Number of retrieved comments','Post Length words',\n",
    "          'Post Length words no stopwords','Average word length characters',\n",
    "          'Average word length characters no stopwords','MEIBI score','MEIBIX score']"
   ]
  },
  {
   "cell_type": "code",
   "execution_count": 0,
   "metadata": {
    "colab": {},
    "colab_type": "code",
    "id": "WQL3Wey-fgK1"
   },
   "outputs": [],
   "source": [
    "i=0\n",
    "for colname in colnames:\n",
    "    to_replace_str = '_c'+str(i)\n",
    "    posts = posts.withColumnRenamed(to_replace_str, colname)\n",
    "    i += 1"
   ]
  },
  {
   "cell_type": "code",
   "execution_count": 0,
   "metadata": {
    "colab": {},
    "colab_type": "code",
    "id": "1yfAEvvkRM_a",
    "outputId": "30319b84-1710-4c43-9c63-39a6af7bf735",
    "scrolled": true
   },
   "outputs": [
    {
     "name": "stdout",
     "output_type": "stream",
     "text": [
      "+-------+--------------------+-----------------+----------+------------------+--------------------+--------------------+----------+---------------------------+----------------------------+-----------------+------------------------------+------------------------------+-------------------------------------------+-----------+------------+\n",
      "|Post_ID|               Title|     Blogger_Name|Blogger_ID|Number of comments|             Content|                 URL|      Date|Number of retrieved inlinks|Number of retrieved comments|Post Length words|Post Length words no stopwords|Average word length characters|Average word length characters no stopwords|MEIBI score|MEIBIX score|\n",
      "+-------+--------------------+-----------------+----------+------------------+--------------------+--------------------+----------+---------------------------+----------------------------+-----------------+------------------------------+------------------------------+-------------------------------------------+-----------+------------+\n",
      "|      1|We Just Tested Tw...|    Jason Kincaid|         1|                14|During his keynot...|http://techcrunch...|2010-04-01|                          0|                          14|              314|                           223|                      4.130293|                                   5.686099|    0.00000|     0.00000|\n",
      "|      2|Facebook To Launc...|    Jason Kincaid|         1|                30|Later this month ...|http://techcrunch...|2010-04-01|                          0|                          30|              717|                           488|                      4.138177|                                   5.952869|    0.00000|     0.00000|\n",
      "|      3|NYTimes Request C...|Michael Arrington|         2|                38|A NYTimes communi...|http://techcrunch...|2010-04-01|                          4|                          38|              249|                           168|                      3.572614|                                   5.125000|  624.00000|     0.00000|\n",
      "|      4|Google Shows How ...|  Erick Schonfeld|         3|                26|A lot of attentio...|http://techcrunch...|2010-04-01|                         10|                          26|              256|                           172|                      3.628571|                                   5.168605| 1080.00000|     0.00000|\n",
      "|      5|The iPad: Apple&#...|       John Biggs|         4|                49|Something struck ...|http://www.crunch...|2010-04-01|                          1|                          49|              503|                           348|                      3.773279|                                   5.356322|  200.00000|     0.00000|\n",
      "|      6|Blippy Does An En...|    Jason Kincaid|         1|                13|Early this year, ...|http://techcrunch...|2010-04-01|                          1|                          13|              299|                           221|                      4.393728|                                   5.705882|   56.00000|     0.00000|\n",
      "|      7|FreshPlanet Debut...|  Erick Schonfeld|         3|                 5|If you are going ...|http://techcrunch...|2010-04-01|                          1|                           5|              306|                           220|                      4.232877|                                   5.618182|   24.00000|     0.00000|\n",
      "|      8|Twitter Tweaks Se...|       MG Siegler|         5|                 3|As you may have n...|http://techcrunch...|2010-04-01|                          0|                           3|              446|                           300|                      4.004673|                                   5.713333|    0.00000|     0.00000|\n",
      "|      9|Behind The Scenes...|    Jason Kincaid|         1|                 8|Today, millions o...|http://techcrunch...|2010-04-01|                          2|                           8|              419|                           303|                      4.077670|                                   5.544554|   72.00000|     0.00000|\n",
      "|     10|The App Store Is ...|       MG Siegler|         5|                36|Have you been doi...|http://techcrunch...|2010-04-01|                          0|                          35|              304|                           216|                      3.955017|                                   5.291667|    0.00000|     0.00000|\n",
      "|     11|And now we wait f...|   Devin Coldewey|         6|                26|Whether you&#8217...|http://www.crunch...|2010-04-01|                          0|                          22|              482|                           325|                      3.811563|                                   5.476923|    0.00000|     0.00000|\n",
      "|     12|Netflix For The i...|       MG Siegler|         5|                53|Seeing as today i...|http://techcrunch...|2010-04-01|                          3|                          49|              235|                           155|                      3.607306|                                   5.096774|  600.00000|     0.00000|\n",
      "|     13|Conde Nast Cooks ...|        Leena Rao|         7|                 6|We&#8217;ve heard...|http://techcrunch...|2010-04-01|                          1|                           6|              474|                           334|                      4.023861|                                   5.553892|   28.00000|     0.00000|\n",
      "|     14|RethinkDB Raises ...|    Jason Kincaid|         1|                 3|RethinkDB, the st...|http://techcrunch...|2010-04-01|                          0|                           3|              293|                           210|                      4.650177|                                   6.266667|    0.00000|     0.00000|\n",
      "|     15|With 50 Million U...|       MG Siegler|         5|                17|The iPad isn&#821...|http://techcrunch...|2010-04-01|                          1|                          15|              321|                           219|                      3.892857|                                   5.474886|   64.00000|     0.00000|\n",
      "|     16|Omniture And Othe...|  Erick Schonfeld|         3|                 0|Facebook is rampi...|http://techcrunch...|2010-04-01|                          0|                           0|              206|                           153|                      4.292929|                                   5.555556|    0.00000|     0.00000|\n",
      "|     17|Boom! Apple Break...|       MG Siegler|         5|                10|Maybe you&#8217;v...|http://techcrunch...|2010-04-01|                          1|                           9|              239|                           181|                      4.207048|                                   5.276243|   40.00000|     0.00000|\n",
      "|     18|The New York Time...|       Andy Brett|         8|                28|The New York Time...|http://techcrunch...|2010-04-01|                          4|                          27|              651|                           449|                      4.323988|                                   6.182628|  448.00000|     0.00000|\n",
      "|     19|iPad Apps Are Liv...|       MG Siegler|         5|                14|It appears that A...|http://techcrunch...|2010-04-01|                          1|                          13|              124|                            83|                      3.675926|                                   4.783133|   56.00000|     0.00000|\n",
      "|     20|Pixels And Salsa:...|       MG Siegler|         5|                12|As location conti...|http://techcrunch...|2010-04-01|                          2|                          12|              308|                           203|                      3.719064|                                   5.477833|  104.00000|     0.00000|\n",
      "+-------+--------------------+-----------------+----------+------------------+--------------------+--------------------+----------+---------------------------+----------------------------+-----------------+------------------------------+------------------------------+-------------------------------------------+-----------+------------+\n",
      "only showing top 20 rows\n",
      "\n"
     ]
    }
   ],
   "source": [
    "posts.show()"
   ]
  },
  {
   "cell_type": "code",
   "execution_count": 0,
   "metadata": {
    "colab": {},
    "colab_type": "code",
    "id": "aREiv0NfG7xA"
   },
   "outputs": [],
   "source": [
    "#### functions to clean contents"
   ]
  },
  {
   "cell_type": "code",
   "execution_count": 0,
   "metadata": {
    "colab": {},
    "colab_type": "code",
    "id": "gWKFcVN0CnqT"
   },
   "outputs": [],
   "source": [
    "def RemoveSpecialCHs(text):\n",
    "    text = word_tokenize(text)\n",
    "    st = [\",\", \".\", \"'\", \"!\", '\"', \"#\", \"$\", \"%\", \"&\", \"(\", \")\", \"*\", \"+\", \"-\", \".\", \"/\", \":\", \";\", \"<\", \"=\", '>', \"?\",\n",
    "          \"@\", \"[\", \"\\\\\", \"]\", \"^\", \"_\", '`', \"{\", \"|\", \"}\", '~', '\\t', '\\n']\n",
    "\n",
    "    words = [word for word in text if word not in st]\n",
    "    return words"
   ]
  },
  {
   "cell_type": "code",
   "execution_count": 0,
   "metadata": {
    "colab": {},
    "colab_type": "code",
    "id": "wLpP6RPtCniG"
   },
   "outputs": [],
   "source": [
    "def syllable_count_Manual(word):\n",
    "    word = word.lower()\n",
    "    count = 0\n",
    "    vowels = \"aeiouy\"\n",
    "    if word[0] in vowels:\n",
    "        count += 1\n",
    "    for index in range(1, len(word)):\n",
    "        if word[index] in vowels and word[index - 1] not in vowels:\n",
    "            count += 1\n",
    "            if word.endswith(\"e\"):\n",
    "                count -= 1\n",
    "    if count == 0:\n",
    "        count += 1\n",
    "    return count"
   ]
  },
  {
   "cell_type": "code",
   "execution_count": 0,
   "metadata": {
    "colab": {},
    "colab_type": "code",
    "id": "7iPmbyLuCnkk"
   },
   "outputs": [],
   "source": [
    "# COUNTS NUMBER OF SYLLABLES\n",
    "\n",
    "def syllable_count(word):\n",
    "    global cmuDictionary\n",
    "    d = cmuDictionary\n",
    "    try:\n",
    "        syl = [len(list(y for y in x if y[-1].isdigit())) for x in d[word.lower()]][0]\n",
    "    except:\n",
    "        syl = syllable_count_Manual(word)\n",
    "    return syl"
   ]
  },
  {
   "cell_type": "markdown",
   "metadata": {
    "colab_type": "text",
    "id": "_jUM3dR-F27v"
   },
   "source": [
    "### Functions to find  **Lexical Features:**\n",
    "* Average Word Length\n",
    "* Average Sentence Length By Word\n",
    "* Average Sentence Length By Character\n",
    "* Special Character Count\n",
    "* Average Syllable per Word\n",
    "* Functional Words Count\n",
    "* Punctuation Count\n",
    "\n",
    "\n",
    "These are the most basic features one can extract from the text. These features tell us about the structure of the text. For example averages of different counts like word lengths, special characters, punctuations and functional words etc. Functional words are used to express grammatical relationships among other words within a sentence. Secondly, if a word has more syllables then it is most likely to be a difficult word (although not necessary). Avg Syllable per word being the measure of complexity, is used in calculations of many other features related to readability scores described in the sections ahead. Punctuation Countand Special Character Count are straight forward ways to differentiate different genres. For example narrative story and research paper."
   ]
  },
  {
   "cell_type": "code",
   "execution_count": 0,
   "metadata": {
    "colab": {},
    "colab_type": "code",
    "id": "3dlJHQMXUaio"
   },
   "outputs": [],
   "source": [
    "# removing stop words plus punctuation.\n",
    "def Avg_wordLength(text):\n",
    "    try:\n",
    "        text.translate(string.punctuation)\n",
    "        tokens = word_tokenize(text, language='english')\n",
    "        st = [\",\", \".\", \"'\", \"!\", '\"', \"#\", \"$\", \"%\", \"&\", \"(\", \")\", \"*\", \"+\", \"-\", \".\", \"/\", \":\", \";\", \"<\", \"=\", '>', \"?\",\n",
    "              \"@\", \"[\", \"\\\\\", \"]\", \"^\", \"_\", '`', \"{\", \"|\", \"}\", '~', '\\t', '\\n']\n",
    "        stop = stopwords.words('english') + st\n",
    "        words = [word for word in tokens if word not in stop]\n",
    "        return float(np.average([len(word) for word in words]))\n",
    "    except:\n",
    "        return 0"
   ]
  },
  {
   "cell_type": "code",
   "execution_count": 0,
   "metadata": {
    "colab": {},
    "colab_type": "code",
    "id": "jzUtjsgpRM_o"
   },
   "outputs": [],
   "source": [
    "find_feature = F.udf(lambda text: Avg_wordLength(text))\n",
    "posts = posts.withColumn('meanwl', find_feature(F.col('Content')))"
   ]
  },
  {
   "cell_type": "code",
   "execution_count": 0,
   "metadata": {
    "colab": {},
    "colab_type": "code",
    "id": "0gYlrf41UiFC"
   },
   "outputs": [],
   "source": [
    "# returns avg number of words in a sentence\n",
    "def Avg_SentLenghtByWord(text):\n",
    "    try:\n",
    "        tokens = sent_tokenize(text)\n",
    "        return float(np.average([len(token.split()) for token in tokens]))\n",
    "    except:\n",
    "        return 0"
   ]
  },
  {
   "cell_type": "code",
   "execution_count": 0,
   "metadata": {
    "colab": {},
    "colab_type": "code",
    "id": "7J2fglWwRM_r"
   },
   "outputs": [],
   "source": [
    "find_feature = F.udf(lambda text: Avg_SentLenghtByWord(text))\n",
    "posts = posts.withColumn('mean', find_feature(F.col('Content')))"
   ]
  },
  {
   "cell_type": "code",
   "execution_count": 0,
   "metadata": {
    "colab": {},
    "colab_type": "code",
    "id": "Qpx_5DmZUauY"
   },
   "outputs": [],
   "source": [
    "# returns avg number of characters in a sentence\n",
    "def Avg_SentLenghtByCh(text):\n",
    "    try:\n",
    "        tokens = sent_tokenize(text)\n",
    "        return float(np.average([len(token) for token in tokens]))\n",
    "    except:\n",
    "        return 0"
   ]
  },
  {
   "cell_type": "code",
   "execution_count": 0,
   "metadata": {
    "colab": {},
    "colab_type": "code",
    "id": "gsauBMvGRM_v"
   },
   "outputs": [],
   "source": [
    "find_feature = F.udf(lambda text: Avg_SentLenghtByCh(text))\n",
    "posts = posts.withColumn('meansl', find_feature(F.col('Content')))"
   ]
  },
  {
   "cell_type": "code",
   "execution_count": 0,
   "metadata": {
    "colab": {},
    "colab_type": "code",
    "id": "kKJlBuWAUa3D"
   },
   "outputs": [],
   "source": [
    "# COUNTS SPECIAL CHARACTERS NORMALIZED OVER LENGTH OF CHUNK\n",
    "def CountSpecialCharacter(text):\n",
    "    try:\n",
    "        st = [\"#\", \"$\", \"%\", \"&\", \"(\", \")\", \"*\", \"+\", \"-\", \"/\", \"<\", \"=\", '>',\n",
    "          \"@\", \"[\", \"\\\\\", \"]\", \"^\", \"_\", '`', \"{\", \"|\", \"}\", '~', '\\t', '\\n']\n",
    "        count = 0\n",
    "        for i in text:\n",
    "            if (i in st):\n",
    "                count = count + 1\n",
    "        return float(count / len(text))\n",
    "    except:\n",
    "        return 0"
   ]
  },
  {
   "cell_type": "code",
   "execution_count": 0,
   "metadata": {
    "colab": {},
    "colab_type": "code",
    "id": "hSzbTLGURM_0"
   },
   "outputs": [],
   "source": [
    "find_feature = F.udf(lambda text: CountSpecialCharacter(text))\n",
    "posts = posts.withColumn('means', find_feature(F.col('Content')))"
   ]
  },
  {
   "cell_type": "code",
   "execution_count": 0,
   "metadata": {
    "colab": {},
    "colab_type": "code",
    "id": "a1f4a3NpUa_2"
   },
   "outputs": [],
   "source": [
    "# GIVES NUMBER OF SYLLABLES PER WORD\n",
    "def Avg_Syllable_per_Word(text):\n",
    "    try:\n",
    "        tokens = word_tokenize(text, language='english')\n",
    "        st = [\",\", \".\", \"'\", \"!\", '\"', \"#\", \"$\", \"%\", \"&\", \"(\", \")\", \"*\", \"+\", \"-\", \".\", \"/\", \":\", \";\", \"<\", \"=\", '>', \"?\",\n",
    "              \"@\", \"[\", \"\\\\\", \"]\", \"^\", \"_\", '`', \"{\", \"|\", \"}\", '~', '\\t', '\\n']\n",
    "        stop = stopwords.words('english') + st\n",
    "        words = [word for word in tokens if word not in stop]\n",
    "        syllabls = [syllable_count(word) for word in words]\n",
    "        p = (\" \".join(words))\n",
    "        return float(sum(syllabls) / max(1, len(words)))\n",
    "    except:\n",
    "        return 0"
   ]
  },
  {
   "cell_type": "code",
   "execution_count": 0,
   "metadata": {
    "colab": {},
    "colab_type": "code",
    "id": "UyYFQJPkRM_4"
   },
   "outputs": [],
   "source": [
    "find_feature = F.udf(lambda text: Avg_Syllable_per_Word(text))\n",
    "posts = posts.withColumn('meanSyllable', find_feature(F.col('Content')))"
   ]
  },
  {
   "cell_type": "code",
   "execution_count": 0,
   "metadata": {
    "colab": {},
    "colab_type": "code",
    "id": "ZeLaDPfqUbI-"
   },
   "outputs": [],
   "source": [
    "# RETURNS NORMALIZED COUNT OF FUNCTIONAL WORDS FROM A Framework for\n",
    "# Authorship Identification of Online Messages: Writing-Style Features and Classification Techniques\n",
    "\n",
    "def CountFunctionalWords(text):\n",
    "    try:\n",
    "        functional_words = \"\"\"a between in nor some upon\n",
    "        about both including nothing somebody us\n",
    "        above but inside of someone used\n",
    "        after by into off something via\n",
    "        all can is on such we\n",
    "        although cos it once than what\n",
    "        am do its one that whatever\n",
    "        among down latter onto the when\n",
    "        an each less opposite their where\n",
    "        and either like or them whether\n",
    "        another enough little our these which\n",
    "        any every lots outside they while\n",
    "        anybody everybody many over this who\n",
    "        anyone everyone me own those whoever\n",
    "        anything everything more past though whom\n",
    "        are few most per through whose\n",
    "        around following much plenty till will\n",
    "        as for must plus to with\n",
    "        at from my regarding toward within\n",
    "        be have near same towards without\n",
    "        because he need several under worth\n",
    "        before her neither she unless would\n",
    "        behind him no should unlike yes\n",
    "        below i nobody since until you\n",
    "        beside if none so up your\n",
    "        \"\"\"\n",
    "\n",
    "        functional_words = functional_words.split()\n",
    "        words = RemoveSpecialCHs(text)\n",
    "        count = 0\n",
    "\n",
    "        for i in text:\n",
    "            if i in functional_words:\n",
    "                count += 1\n",
    "\n",
    "        return float(count / len(words))\n",
    "    except:\n",
    "        return 0"
   ]
  },
  {
   "cell_type": "code",
   "execution_count": 0,
   "metadata": {
    "colab": {},
    "colab_type": "code",
    "id": "xTJ__98pRM_8"
   },
   "outputs": [],
   "source": [
    "find_feature = F.udf(lambda text: CountFunctionalWords(text))\n",
    "posts = posts.withColumn('f', find_feature(F.col('Content')))"
   ]
  },
  {
   "cell_type": "code",
   "execution_count": 0,
   "metadata": {
    "colab": {},
    "colab_type": "code",
    "id": "W1LJfoDRCnwL"
   },
   "outputs": [],
   "source": [
    "def CountPuncuation(text):\n",
    "    try:\n",
    "        st = [\",\", \".\", \"'\", \"!\", '\"', \";\", \"?\", \":\", \";\"]\n",
    "        count = 0\n",
    "        for i in text:\n",
    "            if (i in st):\n",
    "                count = count + 1\n",
    "        return float(count) / float(len(text))\n",
    "    except:\n",
    "        return 0"
   ]
  },
  {
   "cell_type": "code",
   "execution_count": 0,
   "metadata": {
    "colab": {},
    "colab_type": "code",
    "id": "hHcG2YocRNAA"
   },
   "outputs": [],
   "source": [
    "find_feature = F.udf(lambda text: CountPuncuation(text))\n",
    "posts = posts.withColumn('p', find_feature(F.col('Content')))"
   ]
  },
  {
   "cell_type": "markdown",
   "metadata": {
    "colab_type": "text",
    "id": "46ZCbcFJGOD5"
   },
   "source": [
    "### Functions to find  **Vocabulary Richness Features:**\n",
    "Many quantitative studies rely on the concept of vocabulary richness. A text has low vocabulary richness if the same limited vocabulary is repeated over and over again, while it has high vocabulary richness if new words continually appear. In essence, these features tell us about the diversity and richness of the vocabulary used in the text.\n",
    "\n",
    "* Hapax Legomenon **V**\n",
    "* Hapax DisLegemena(Sichel’s Measure) **V**\n",
    "* Honores R Measure **V**\n",
    "* Brunets Measure W **V** \n",
    "* Yules Characteristic K **V** \n",
    "* Shannon Entropy **V** （also readability feature）\n",
    "* Simpson’s Index **V** （also readability feature）"
   ]
  },
  {
   "cell_type": "code",
   "execution_count": 0,
   "metadata": {
    "colab": {},
    "colab_type": "code",
    "id": "4WLniM2vWL2U"
   },
   "outputs": [],
   "source": [
    "# Hapax Legomenon\n",
    "# TYPE TOKEN RATIO NO OF DIFFERENT WORDS / NO OF WORDS\n",
    "def typeTokenRatio(text):\n",
    "    try:    \n",
    "        words = word_tokenize(text)\n",
    "        return float(len(set(words)) / len(words))\n",
    "    except:\n",
    "        return 0"
   ]
  },
  {
   "cell_type": "code",
   "execution_count": 0,
   "metadata": {
    "colab": {},
    "colab_type": "code",
    "id": "eFIkNmfZRNAF"
   },
   "outputs": [],
   "source": [
    "find_feature = F.udf(lambda text: typeTokenRatio(text))\n",
    "posts = posts.withColumn('TTratio', find_feature(F.col('Content')))"
   ]
  },
  {
   "cell_type": "code",
   "execution_count": 0,
   "metadata": {
    "colab": {},
    "colab_type": "code",
    "id": "quUkV8e1IXb7"
   },
   "outputs": [],
   "source": [
    "# Hapax DisLegemena (Sichel’s Measure)\n",
    "def hapaxDisLegemena(text):\n",
    "    try:\n",
    "        words = RemoveSpecialCHs(text)\n",
    "        count = 0\n",
    "        # Collections as coll Counter takes an iterable collapse duplicate and counts as\n",
    "        # a dictionary how many equivelant items has been entered\n",
    "        freqs = coll.Counter()\n",
    "        freqs.update(words)\n",
    "        for word in freqs:\n",
    "            if freqs[word] == 2:\n",
    "                count += 1\n",
    "\n",
    "        h = float(count / float(len(words)))\n",
    "        S = float(count / float(len(set(words))))\n",
    "        return [S, h]\n",
    "    except:\n",
    "        return [0,0]"
   ]
  },
  {
   "cell_type": "code",
   "execution_count": 0,
   "metadata": {
    "colab": {},
    "colab_type": "code",
    "id": "ffp3HOXqRNAJ"
   },
   "outputs": [],
   "source": [
    "find_feature = F.udf(lambda text: hapaxDisLegemena(text)[0])\n",
    "posts = posts.withColumn('SichelesMeasureS', find_feature(F.col('Content')))"
   ]
  },
  {
   "cell_type": "code",
   "execution_count": 0,
   "metadata": {
    "colab": {},
    "colab_type": "code",
    "id": "Lq3yK46_RNAL"
   },
   "outputs": [],
   "source": [
    "find_feature = F.udf(lambda text: hapaxDisLegemena(text)[1])\n",
    "posts = posts.withColumn('dihapax', find_feature(F.col('Content')))"
   ]
  },
  {
   "cell_type": "code",
   "execution_count": 0,
   "metadata": {
    "colab": {},
    "colab_type": "code",
    "id": "bmDvK_bWGX-P"
   },
   "outputs": [],
   "source": [
    "# Honore Measure R\n",
    "# return Honore Measure R\n",
    "def hapaxLegemena(text):\n",
    "    try:\n",
    "        words = RemoveSpecialCHs(text)\n",
    "        V1 = 0\n",
    "        # dictionary comprehension . har word kay against value 0 kardi\n",
    "        freqs = {key: 0 for key in words}\n",
    "        for word in words:\n",
    "            freqs[word] += 1\n",
    "        for word in freqs:\n",
    "            if freqs[word] == 1:\n",
    "                V1 += 1\n",
    "        N = len(words)\n",
    "        V = float(len(set(words)))\n",
    "        R = 100 * math.log(N) / max(1, (1 - (V1 / V)))\n",
    "        h = V1 / N\n",
    "        return [R, h]\n",
    "    except:\n",
    "            return [0,0]"
   ]
  },
  {
   "cell_type": "code",
   "execution_count": 0,
   "metadata": {
    "colab": {},
    "colab_type": "code",
    "id": "1Y6ScRUFRNAP"
   },
   "outputs": [],
   "source": [
    "find_feature = F.udf(lambda text: hapaxLegemena(text)[0])\n",
    "posts = posts.withColumn('HonoreMeasureR', find_feature(F.col('Content')))"
   ]
  },
  {
   "cell_type": "code",
   "execution_count": 0,
   "metadata": {
    "colab": {},
    "colab_type": "code",
    "id": "AFh2ql8PRNAQ"
   },
   "outputs": [],
   "source": [
    "find_feature = F.udf(lambda text: hapaxLegemena(text)[1])\n",
    "posts = posts.withColumn('hapax', find_feature(F.col('Content')))"
   ]
  },
  {
   "cell_type": "code",
   "execution_count": 0,
   "metadata": {
    "colab": {},
    "colab_type": "code",
    "id": "9ilwbebwWfbI"
   },
   "outputs": [],
   "source": [
    "# Brunets Measure W\n",
    "# logW = V-a/log(N)\n",
    "# N = total words , V = vocabulary richness (unique words) ,  a=0.17\n",
    "# we can convert into log because we are only comparing different texts\n",
    "def BrunetsMeasureW(text):\n",
    "    try:\n",
    "        words = RemoveSpecialCHs(text)\n",
    "        a = 0.17\n",
    "        V = float(len(set(words)))\n",
    "        N = len(words)\n",
    "        B = (V - a) / (math.log(N))\n",
    "        return float(B)\n",
    "    except:\n",
    "        return 0"
   ]
  },
  {
   "cell_type": "code",
   "execution_count": 0,
   "metadata": {
    "colab": {},
    "colab_type": "code",
    "id": "vGHuMiZgRNAU"
   },
   "outputs": [],
   "source": [
    "find_feature = F.udf(lambda text: BrunetsMeasureW(text))\n",
    "posts = posts.withColumn('B', find_feature(F.col('Content')))"
   ]
  },
  {
   "cell_type": "code",
   "execution_count": 0,
   "metadata": {
    "colab": {},
    "colab_type": "code",
    "id": "wDsXYhGiJXsg"
   },
   "outputs": [],
   "source": [
    "# K  10,000 * (M - N) / N**2\n",
    "# , where M  Sigma i**2 * Vi.\n",
    "def YulesCharacteristicK(text):\n",
    "    try:\n",
    "        words = RemoveSpecialCHs(text)\n",
    "        N = len(words)\n",
    "        freqs = coll.Counter()\n",
    "        freqs.update(words)\n",
    "        vi = coll.Counter()\n",
    "        vi.update(freqs.values())\n",
    "        M = sum([(value * value) * vi[value] for key, value in freqs.items()])\n",
    "        K = 10000 * (M - N) / math.pow(N, 2)\n",
    "        return float(K)\n",
    "    except:\n",
    "        return 0"
   ]
  },
  {
   "cell_type": "code",
   "execution_count": 0,
   "metadata": {
    "colab": {},
    "colab_type": "code",
    "id": "oApjWjsTRNAY"
   },
   "outputs": [],
   "source": [
    "find_feature = F.udf(lambda text: YulesCharacteristicK(text))\n",
    "posts = posts.withColumn('YuleK', find_feature(F.col('Content')))"
   ]
  },
  {
   "cell_type": "markdown",
   "metadata": {
    "colab_type": "text",
    "id": "3Ic20veOGYvw"
   },
   "source": [
    "### Functions to find  **Readability Scores:**\n",
    "Readability is the ease with which a reader can understand a written text. Readability is more than simply legibility—which is a measure of how easily a reader can distinguish individual letters or characters from each other. Features for readability stems from the field of linguistics and researchers have frequently used linguistics’ laws (e.g zipfs law) and lemmas to pull out the currently used features to calculate readability scores of text in the modern computer science. Following is the list of features we are using.\n",
    "\n",
    "* Flesch Reading Ease **V**\n",
    "* Flesch-Kincaid Grade Level **V**\n",
    "* Gunning Fog Index  **V**\n",
    "* Dale Chall Readability Formula  **V**\n",
    "* Shannon Entropy (also vocabulary richness feature）**V**\n",
    "* Simpson's Index (also vocabulary richness feature）**V**"
   ]
  },
  {
   "cell_type": "code",
   "execution_count": 0,
   "metadata": {
    "colab": {},
    "colab_type": "code",
    "id": "48yRP6S7I-JD"
   },
   "outputs": [],
   "source": [
    "def FleschReadingEase(text):\n",
    "    try:\n",
    "        NoOfSectences = len(sent_tokenize(text))\n",
    "        words = RemoveSpecialCHs(text)\n",
    "        l = float(len(words))\n",
    "        scount = 0\n",
    "        for word in words:\n",
    "            scount += syllable_count(word)\n",
    "\n",
    "        I = 206.835 - 1.015 * (l / float(NoOfsentences)) - 84.6 * (scount / float(l))\n",
    "        return float(I)\n",
    "    except:\n",
    "        return 0"
   ]
  },
  {
   "cell_type": "code",
   "execution_count": 0,
   "metadata": {
    "colab": {},
    "colab_type": "code",
    "id": "oMK03V7PRNAc"
   },
   "outputs": [],
   "source": [
    "find_feature = F.udf(lambda text: FleschReadingEase(text))\n",
    "posts = posts.withColumn('FR', find_feature(F.col('Content')))"
   ]
  },
  {
   "cell_type": "code",
   "execution_count": 0,
   "metadata": {
    "colab": {},
    "colab_type": "code",
    "id": "GyYgMIvnI5_m"
   },
   "outputs": [],
   "source": [
    "def FleschCincadeGradeLevel(text):\n",
    "    try:\n",
    "        NoOfSectences = len(sent_tokenize(text))\n",
    "        words = RemoveSpecialCHs(text)\n",
    "        scount = 0\n",
    "        for word in words:\n",
    "            scount += syllable_count(word)\n",
    "\n",
    "        l = len(words)\n",
    "        F = 0.39 * (l / NoOfSentences) + 11.8 * (scount / float(l)) - 15.59\n",
    "        return float(F)\n",
    "    except:\n",
    "        return 0"
   ]
  },
  {
   "cell_type": "code",
   "execution_count": 0,
   "metadata": {
    "colab": {},
    "colab_type": "code",
    "id": "xdvUQxz-RNAg"
   },
   "outputs": [],
   "source": [
    "find_feature = F.udf(lambda text: FleschCincadeGradeLevel(text))\n",
    "posts = posts.withColumn('FC', find_feature(F.col('Content')))"
   ]
  },
  {
   "cell_type": "code",
   "execution_count": 0,
   "metadata": {
    "colab": {},
    "colab_type": "code",
    "id": "BBogR5ZfGeNE"
   },
   "outputs": [],
   "source": [
    "def GunningFoxIndex(text):\n",
    "    try:\n",
    "        NoOfSectences = len(sent_tokenize(text))\n",
    "        words = RemoveSpecialCHs(text)\n",
    "        NoOFWords = float(len(words))\n",
    "        complexWords = 0\n",
    "        for word in words:\n",
    "            if (syllable_count(word) > 2):\n",
    "                complexWords += 1\n",
    "\n",
    "        G = 0.4 * ((NoOFWords / NoOfSentences) + 100 * (complexWords / NoOFWords))\n",
    "        return float(G)\n",
    "    except:\n",
    "        return 0"
   ]
  },
  {
   "cell_type": "code",
   "execution_count": 0,
   "metadata": {
    "colab": {},
    "colab_type": "code",
    "id": "wYjt1gLnRNAj"
   },
   "outputs": [],
   "source": [
    "find_feature = F.udf(lambda text: GunningFoxIndex(text))\n",
    "posts = posts.withColumn('G', find_feature(F.col('Content')))"
   ]
  },
  {
   "cell_type": "code",
   "execution_count": 0,
   "metadata": {
    "colab": {},
    "colab_type": "code",
    "id": "pu1M89rlItrV"
   },
   "outputs": [],
   "source": [
    "def dale_chall_readability_formula(text):\n",
    "    try:\n",
    "        NoOfSectences = len(sent_tokenize(text))\n",
    "        words = RemoveSpecialCHs(text)\n",
    "        difficult = 0\n",
    "        adjusted = 0\n",
    "        NoOfWords = len(words)\n",
    "        with open('dale-chall.pkl', 'rb') as f:\n",
    "            fimiliarWords = pickle.load(f)\n",
    "        for word in words:\n",
    "            if word not in fimiliarWords:\n",
    "                difficult += 1\n",
    "        percent = (difficult / NoOfWords) * 100\n",
    "        if (percent > 5):\n",
    "            adjusted = 3.6365\n",
    "        D = 0.1579 * (percent) + 0.0496 * (NoOfWords / NoOfSectences) + adjusted\n",
    "        return float(D)\n",
    "    except:\n",
    "        return 0"
   ]
  },
  {
   "cell_type": "code",
   "execution_count": 0,
   "metadata": {
    "colab": {},
    "colab_type": "code",
    "id": "aaASEJF4RNAo"
   },
   "outputs": [],
   "source": [
    "find_feature = F.udf(lambda text: dale_chall_readability_formula(text))\n",
    "posts = posts.withColumn('D', find_feature(F.col('Content')))"
   ]
  },
  {
   "cell_type": "code",
   "execution_count": 0,
   "metadata": {
    "colab": {},
    "colab_type": "code",
    "id": "IH_vl3B3Itum"
   },
   "outputs": [],
   "source": [
    "# -1*sigma(pi*lnpi)\n",
    "# Shannon and sympsons index are basically diversity indices for any community\n",
    "def ShannonEntropy(text):\n",
    "    try:\n",
    "        words = RemoveSpecialCHs(text)\n",
    "        lenght = len(words)\n",
    "        freqs = coll.Counter()\n",
    "        freqs.update(words)\n",
    "        arr = np.array(list(freqs.values()))\n",
    "        distribution = 1. * arr\n",
    "        distribution /= max(1, lenght)\n",
    "        import scipy as sc\n",
    "        H = sc.stats.entropy(distribution, base=2)\n",
    "        # H = sum([(i/lenght)*math.log(i/lenght,math.e) for i in freqs.values()])\n",
    "        return float(H)\n",
    "    except:\n",
    "        return 0"
   ]
  },
  {
   "cell_type": "code",
   "execution_count": 0,
   "metadata": {
    "colab": {},
    "colab_type": "code",
    "id": "ga8hrECVRNAs"
   },
   "outputs": [],
   "source": [
    "find_feature = F.udf(lambda text: ShannonEntropy(text))\n",
    "posts = posts.withColumn('Shannon', find_feature(F.col('Content')))"
   ]
  },
  {
   "cell_type": "code",
   "execution_count": 0,
   "metadata": {
    "colab": {},
    "colab_type": "code",
    "id": "-ieD4nLJItw4"
   },
   "outputs": [],
   "source": [
    "# 1 - (sigma(n(n - 1))/N(N-1)\n",
    "# N is total number of words\n",
    "# n is the number of each type of word\n",
    "def SimpsonsIndex(text):\n",
    "    try:\n",
    "        words = RemoveSpecialCHs(text)\n",
    "        freqs = coll.Counter()\n",
    "        freqs.update(words)\n",
    "        N = len(words)\n",
    "        n = sum([1.0 * i * (i - 1) for i in freqs.values()])\n",
    "        S = 1 - (n / (N * (N - 1)))\n",
    "        return float(S)\n",
    "    except:\n",
    "        return 0"
   ]
  },
  {
   "cell_type": "code",
   "execution_count": 0,
   "metadata": {
    "colab": {},
    "colab_type": "code",
    "id": "snidfpjk5qCn"
   },
   "outputs": [],
   "source": [
    "find_feature = F.udf(lambda text: SimpsonsIndex(text))\n",
    "posts = posts.withColumn('S', find_feature(F.col('Content')))"
   ]
  },
  {
   "cell_type": "code",
   "execution_count": 0,
   "metadata": {
    "colab": {},
    "colab_type": "code",
    "id": "6Tvm2HSWRNAw",
    "outputId": "a8f88a60-ea03-4a5a-876a-6e560c0c6fa9"
   },
   "outputs": [
    {
     "name": "stdout",
     "output_type": "stream",
     "text": [
      "(19464, 36)\n"
     ]
    }
   ],
   "source": [
    "print((posts.count(), len(posts.columns)))"
   ]
  },
  {
   "cell_type": "code",
   "execution_count": 0,
   "metadata": {
    "colab": {},
    "colab_type": "code",
    "id": "SDdjvSstRNA0"
   },
   "outputs": [],
   "source": [
    "posts.toPandas().to_csv('posts_match_writing_style.csv',index=False)"
   ]
  },
  {
   "cell_type": "markdown",
   "metadata": {},
   "source": [
    "# Regression with MLlib"
   ]
  },
  {
   "cell_type": "markdown",
   "metadata": {},
   "source": [
    "### Read all csv files produced before and combine them into one dataframe"
   ]
  },
  {
   "cell_type": "code",
   "execution_count": 68,
   "metadata": {},
   "outputs": [
    {
     "name": "stdout",
     "output_type": "stream",
     "text": [
      "time: 351 ms\n"
     ]
    }
   ],
   "source": [
    "# Load sentiment analysis results and assign correct names for corresponding column names\n",
    "post_sentiment = spark.read.format(\"csv\").option(\"header\", \"false\").load(\"post_sentiment.csv\")\n",
    "post_sentiment = post_sentiment.withColumnRenamed(\"_c0\", \"Index\")\\\n",
    "        .withColumnRenamed(\"_c1\", \"Post_ID\")\\\n",
    "        .withColumnRenamed(\"_c2\", \"avg_senti_score\")"
   ]
  },
  {
   "cell_type": "code",
   "execution_count": 69,
   "metadata": {
    "scrolled": true
   },
   "outputs": [
    {
     "name": "stdout",
     "output_type": "stream",
     "text": [
      "time: 458 ms\n"
     ]
    }
   ],
   "source": [
    "# Load writing styles results and assign correct names for corresponding column names\n",
    "post_feats_match = spark.read.format(\"csv\").option(\"header\", \"false\").load(\"posts_match_writing_style.csv\")\n",
    "post_feats_match = post_feats_match.select('_c0','_c1','_c5','_c9', '_c11','_c12','_c15','_c17',\n",
    "                                           '_c18','_c19','_c20','_c21', '_c22','_c23','_c24','_c25', '_c26',\n",
    "                                           '_c27','_c28','_c29', '_c30','_c31','_c32','_c33', '_c34','_c35','_c36')\\\n",
    "        .withColumnRenamed(\"_c0\", \"Index\")\\\n",
    "        .withColumnRenamed(\"_c1\", \"Post_ID\")\\\n",
    "        .withColumnRenamed(\"_c5\", \"Number of comments\")\\\n",
    "        .withColumnRenamed(\"_c9\", \"Number of retrieved inlinks\")\\\n",
    "        .withColumnRenamed(\"_c11\", \"Post Length (#words)\")\\\n",
    "        .withColumnRenamed(\"_c12\", \"Post Length (#words no stopwords)\")\\\n",
    "        .withColumnRenamed(\"_c15\", \"MEIBI score\")\\\n",
    "        .withColumnRenamed(\"_c17\", \"meanwl\")\\\n",
    "        .withColumnRenamed(\"_c18\", \"meansl\")\\\n",
    "        .withColumnRenamed(\"_c19\", \"mean\")\\\n",
    "        .withColumnRenamed(\"_c20\", \"meanSyllable\")\\\n",
    "        .withColumnRenamed(\"_c21\", \"means\")\\\n",
    "        .withColumnRenamed(\"_c22\", \"p\")\\\n",
    "        .withColumnRenamed(\"_c23\", \"f\")\\\n",
    "        .withColumnRenamed(\"_c24\", \"TTratio\")\\\n",
    "        .withColumnRenamed(\"_c25\", \"hapax\")\\\n",
    "        .withColumnRenamed(\"_c26\", \"HonoreMeasureR\")\\\n",
    "        .withColumnRenamed(\"_c27\", \"dihapax\")\\\n",
    "        .withColumnRenamed(\"_c28\", \"SichelesMeasureS\")\\\n",
    "        .withColumnRenamed(\"_c29\", \"YuleK\")\\\n",
    "        .withColumnRenamed(\"_c30\", \"S\")\\\n",
    "        .withColumnRenamed(\"_c31\", \"B\")\\\n",
    "        .withColumnRenamed(\"_c32\", \"Shannon\")\\\n",
    "        .withColumnRenamed(\"_c33\", \"FR\")\\\n",
    "        .withColumnRenamed(\"_c34\", \"FC\")\\\n",
    "        .withColumnRenamed(\"_c35\", \"D\")\\\n",
    "        .withColumnRenamed(\"_c36\", \"G\")"
   ]
  },
  {
   "cell_type": "code",
   "execution_count": 70,
   "metadata": {},
   "outputs": [
    {
     "name": "stdout",
     "output_type": "stream",
     "text": [
      "time: 295 ms\n"
     ]
    }
   ],
   "source": [
    "# Load topic moodeling results and assign correct names for corresponding column names\n",
    "post_topicmodeling = spark.read.format(\"csv\").option(\"header\", \"false\").load(\"post_topicmodeling.csv\")\n",
    "post_topicmodeling = post_topicmodeling.select('_c1', '_c17')\n",
    "post_topicmodeling = post_topicmodeling.withColumnRenamed(\"_c1\", \"Post_ID\")\\\n",
    "        .withColumnRenamed(\"_c17\", \"topic\")\n",
    "post_topicmodeling = post_topicmodeling.where(\"topic in ('1','2','3','4','5','6','7','8','9','10','11','12',\\\n",
    "                                              '13','14','15','16','17','18','19') \")"
   ]
  },
  {
   "cell_type": "code",
   "execution_count": 71,
   "metadata": {},
   "outputs": [
    {
     "name": "stdout",
     "output_type": "stream",
     "text": [
      "time: 40 ms\n"
     ]
    }
   ],
   "source": [
    "# Combine these dataframe together by Post_ID\n",
    "all_feats = post_sentiment.join(post_feats_match, post_sentiment.Post_ID == post_feats_match.Post_ID).select(post_sentiment[\"*\"],post_feats_match[\"*\"]).drop(post_feats_match.Post_ID)\n",
    "all_feats = all_feats.join(post_topicmodeling, all_feats.Post_ID == post_topicmodeling.Post_ID).select(all_feats[\"*\"],post_topicmodeling[\"*\"]).drop(post_topicmodeling.Post_ID)"
   ]
  },
  {
   "cell_type": "code",
   "execution_count": 72,
   "metadata": {},
   "outputs": [
    {
     "name": "stdout",
     "output_type": "stream",
     "text": [
      "time: 11.1 ms\n"
     ]
    }
   ],
   "source": [
    "# Eliminate the columns that we do not need.\n",
    "all_feats = all_feats.drop('Index')\n",
    "all_feats = all_feats.drop('Index')\n",
    "all_feats = all_feats.drop('Post_ID')"
   ]
  },
  {
   "cell_type": "code",
   "execution_count": 73,
   "metadata": {
    "scrolled": true
   },
   "outputs": [
    {
     "name": "stdout",
     "output_type": "stream",
     "text": [
      "+-------------------+------------------+---------------------------+--------------------+---------------------------------+-----------+-----------------+------------------+------------------+------------------+--------------------+--------------------+------------------+-------------------+-------------------+-----------------+--------------------+-------------------+------------------+------------------+------------------+------------------+-----------------+------------------+------------------+------------------+-----+\n",
      "|    avg_senti_score|Number of comments|Number of retrieved inlinks|Post Length (#words)|Post Length (#words no stopwords)|MEIBI score|           meanwl|            meansl|              mean|      meanSyllable|               means|                   p|                 f|            TTratio|              hapax|   HonoreMeasureR|             dihapax|   SichelesMeasureS|             YuleK|                 S|                 B|           Shannon|               FR|                FC|                 D|                 G|topic|\n",
      "+-------------------+------------------+---------------------------+--------------------+---------------------------------+-----------+-----------------+------------------+------------------+------------------+--------------------+--------------------+------------------+-------------------+-------------------+-----------------+--------------------+-------------------+------------------+------------------+------------------+------------------+-----------------+------------------+------------------+------------------+-----+\n",
      "|0.18970061200005667|                14|                          0|                 314|                              223|        0.0|6.015151515151516|214.55555555555554|32.888888888888886|1.7171717171717171| 0.03137860082304527|0.026234567901234566|              0.56| 0.4744186046511628| 0.4369230769230769|578.3825182329738| 0.07692307692307693|0.12886597938144329|2452.2603550295858|0.9905033238366572| 33.51242367977741|7.1172093766653335|47.31699145299147|15.630564102564104|12.472380341880342| 17.89059829059829|   16|\n",
      "|0.09232070826304456|                30|                          0|                 717|                              488|        0.0|6.196682464454977|191.65217391304347|30.130434782608695|1.8744075829383886| 0.01891891891891892| 0.02454954954954955|0.6356382978723404|0.41233766233766234|0.36436170212765956| 662.273632394984|0.057180851063829786|0.11559139784946236|1680.0942168401991|0.9907817944867836| 56.14446685055979|   7.7149840529605|45.84891304347828| 14.98683626271971|12.019347964847364| 18.34421831637373|   16|\n",
      "|0.16291705227309936|                38|                          4|                 249|                              168|      624.0|5.108974358974359|             130.0|21.636363636363637|1.5512820512820513|0.029166666666666667| 0.03194444444444444|0.5243445692883895| 0.4415954415954416|0.37453183520599254| 558.724865840025| 0.09363295880149813|0.16891891891891891|2079.9842893012947|0.9859761763960463| 26.45846087013549| 6.696468820451111|69.08132788559757| 9.653891726251278|11.404809295199183|13.154783792986041|   18|\n",
      "| 0.0955839572660625|                26|                         10|                 256|                              172|     1080.0|5.309859154929577|113.41666666666667|             20.25|1.5704225352112675|0.015918958031837915|0.020984081041968163|0.5176470588235295| 0.5813953488372093|0.49019607843137253|554.1263545158425| 0.07450980392156863|0.11515151515151516|2882.8911956939637|0.9923421337038753| 29.74592322792824| 7.009303254916035| 70.4756617647059| 8.708480392156861|11.378029411764707|11.480392156862747|   18|\n",
      "|0.11128472892225397|                49|                          1|                 503|                              348|      200.0|5.326153846153846|125.30434782608695| 21.47826086956522| 1.606153846153846| 0.02308752584424535| 0.02653342522398346|0.5786516853932584|0.44227886056971516|0.37640449438202245|628.0395838960195| 0.08052434456928839|0.15140845070422534| 1916.354556803995|0.9916239784696896|45.193011281115666| 7.514049613819005|65.87496580361507|  9.83893991206644| 11.41160320794659|12.058492102263475|   12|\n",
      "+-------------------+------------------+---------------------------+--------------------+---------------------------------+-----------+-----------------+------------------+------------------+------------------+--------------------+--------------------+------------------+-------------------+-------------------+-----------------+--------------------+-------------------+------------------+------------------+------------------+------------------+-----------------+------------------+------------------+------------------+-----+\n",
      "only showing top 5 rows\n",
      "\n",
      "time: 570 ms\n"
     ]
    }
   ],
   "source": [
    "all_feats.show(5)"
   ]
  },
  {
   "cell_type": "code",
   "execution_count": 74,
   "metadata": {},
   "outputs": [
    {
     "name": "stdout",
     "output_type": "stream",
     "text": [
      "time: 183 ms\n"
     ]
    }
   ],
   "source": [
    "## Transfrom column into right type\n",
    "cols = [ 'avg_senti_score', 'Number of comments', 'Number of retrieved inlinks', 'Post Length (#words)',\n",
    " 'Post Length (#words no stopwords)', 'MEIBI score', 'meanwl', 'meansl', 'mean', 'meanSyllable', 'means',\n",
    " 'p', 'f', 'TTratio', 'hapax', 'HonoreMeasureR', 'dihapax', 'SichelesMeasureS', 'YuleK', 'S', 'B', 'Shannon',\n",
    " 'FR', 'FC', 'D', 'G','topic']\n",
    "for col in cols:\n",
    "    all_feats = all_feats.withColumn(col, all_feats[col].cast(DoubleType()))"
   ]
  },
  {
   "cell_type": "code",
   "execution_count": 75,
   "metadata": {
    "scrolled": true
   },
   "outputs": [
    {
     "name": "stdout",
     "output_type": "stream",
     "text": [
      "root\n",
      " |-- avg_senti_score: double (nullable = true)\n",
      " |-- Number of comments: double (nullable = true)\n",
      " |-- Number of retrieved inlinks: double (nullable = true)\n",
      " |-- Post Length (#words): double (nullable = true)\n",
      " |-- Post Length (#words no stopwords): double (nullable = true)\n",
      " |-- MEIBI score: double (nullable = true)\n",
      " |-- meanwl: double (nullable = true)\n",
      " |-- meansl: double (nullable = true)\n",
      " |-- mean: double (nullable = true)\n",
      " |-- meanSyllable: double (nullable = true)\n",
      " |-- means: double (nullable = true)\n",
      " |-- p: double (nullable = true)\n",
      " |-- f: double (nullable = true)\n",
      " |-- TTratio: double (nullable = true)\n",
      " |-- hapax: double (nullable = true)\n",
      " |-- HonoreMeasureR: double (nullable = true)\n",
      " |-- dihapax: double (nullable = true)\n",
      " |-- SichelesMeasureS: double (nullable = true)\n",
      " |-- YuleK: double (nullable = true)\n",
      " |-- S: double (nullable = true)\n",
      " |-- B: double (nullable = true)\n",
      " |-- Shannon: double (nullable = true)\n",
      " |-- FR: double (nullable = true)\n",
      " |-- FC: double (nullable = true)\n",
      " |-- D: double (nullable = true)\n",
      " |-- G: double (nullable = true)\n",
      " |-- topic: double (nullable = true)\n",
      "\n",
      "time: 1.91 ms\n"
     ]
    }
   ],
   "source": [
    "all_feats.printSchema()"
   ]
  },
  {
   "cell_type": "markdown",
   "metadata": {},
   "source": [
    "### Build three different regression models and compare their performance: Linear Regression, Decision Tree Regression, and Random Forest Regression"
   ]
  },
  {
   "cell_type": "code",
   "execution_count": 31,
   "metadata": {
    "scrolled": true
   },
   "outputs": [
    {
     "data": {
      "text/html": [
       "<div>\n",
       "<style scoped>\n",
       "    .dataframe tbody tr th:only-of-type {\n",
       "        vertical-align: middle;\n",
       "    }\n",
       "\n",
       "    .dataframe tbody tr th {\n",
       "        vertical-align: top;\n",
       "    }\n",
       "\n",
       "    .dataframe thead th {\n",
       "        text-align: right;\n",
       "    }\n",
       "</style>\n",
       "<table border=\"1\" class=\"dataframe\">\n",
       "  <thead>\n",
       "    <tr style=\"text-align: right;\">\n",
       "      <th></th>\n",
       "      <th>0</th>\n",
       "      <th>1</th>\n",
       "      <th>2</th>\n",
       "      <th>3</th>\n",
       "      <th>4</th>\n",
       "    </tr>\n",
       "  </thead>\n",
       "  <tbody>\n",
       "    <tr>\n",
       "      <td>summary</td>\n",
       "      <td>count</td>\n",
       "      <td>mean</td>\n",
       "      <td>stddev</td>\n",
       "      <td>min</td>\n",
       "      <td>max</td>\n",
       "    </tr>\n",
       "    <tr>\n",
       "      <td>avg_senti_score</td>\n",
       "      <td>18994</td>\n",
       "      <td>0.14574785456369205</td>\n",
       "      <td>0.08742542575999103</td>\n",
       "      <td>-1.0</td>\n",
       "      <td>1.0</td>\n",
       "    </tr>\n",
       "    <tr>\n",
       "      <td>Number of comments</td>\n",
       "      <td>18994</td>\n",
       "      <td>47.7158576392545</td>\n",
       "      <td>64.49944133956792</td>\n",
       "      <td>0.0</td>\n",
       "      <td>995.0</td>\n",
       "    </tr>\n",
       "    <tr>\n",
       "      <td>Number of retrieved inlinks</td>\n",
       "      <td>18948</td>\n",
       "      <td>10.893181338399831</td>\n",
       "      <td>113.40113759604314</td>\n",
       "      <td>0.0</td>\n",
       "      <td>15497.0</td>\n",
       "    </tr>\n",
       "    <tr>\n",
       "      <td>Post Length (#words)</td>\n",
       "      <td>18953</td>\n",
       "      <td>377.83290244288503</td>\n",
       "      <td>416.6416495389561</td>\n",
       "      <td>1.0</td>\n",
       "      <td>11363.0</td>\n",
       "    </tr>\n",
       "    <tr>\n",
       "      <td>Post Length (#words no stopwords)</td>\n",
       "      <td>18955</td>\n",
       "      <td>266.7200738591401</td>\n",
       "      <td>297.37768694760354</td>\n",
       "      <td>0.0</td>\n",
       "      <td>8119.0</td>\n",
       "    </tr>\n",
       "    <tr>\n",
       "      <td>MEIBI score</td>\n",
       "      <td>18961</td>\n",
       "      <td>14.32283896540266</td>\n",
       "      <td>124.5878637568447</td>\n",
       "      <td>0.0</td>\n",
       "      <td>7560.0</td>\n",
       "    </tr>\n",
       "    <tr>\n",
       "      <td>meanwl</td>\n",
       "      <td>18966</td>\n",
       "      <td>6.200211224891673</td>\n",
       "      <td>10.271334971967743</td>\n",
       "      <td>0.0</td>\n",
       "      <td>1318.0</td>\n",
       "    </tr>\n",
       "    <tr>\n",
       "      <td>meansl</td>\n",
       "      <td>18967</td>\n",
       "      <td>189.56863858138868</td>\n",
       "      <td>101.5260320578454</td>\n",
       "      <td>0.0</td>\n",
       "      <td>3504.0</td>\n",
       "    </tr>\n",
       "    <tr>\n",
       "      <td>mean</td>\n",
       "      <td>18968</td>\n",
       "      <td>30.533169344280488</td>\n",
       "      <td>23.163371746947316</td>\n",
       "      <td>0.0</td>\n",
       "      <td>2089.0</td>\n",
       "    </tr>\n",
       "    <tr>\n",
       "      <td>meanSyllable</td>\n",
       "      <td>18969</td>\n",
       "      <td>1.9513303692381216</td>\n",
       "      <td>8.546747507685597</td>\n",
       "      <td>0.0</td>\n",
       "      <td>1158.0</td>\n",
       "    </tr>\n",
       "    <tr>\n",
       "      <td>means</td>\n",
       "      <td>18971</td>\n",
       "      <td>0.09363420933769605</td>\n",
       "      <td>6.617649520995014</td>\n",
       "      <td>0.0</td>\n",
       "      <td>859.0</td>\n",
       "    </tr>\n",
       "    <tr>\n",
       "      <td>p</td>\n",
       "      <td>18972</td>\n",
       "      <td>0.09105398595113667</td>\n",
       "      <td>5.446342323024511</td>\n",
       "      <td>0.0</td>\n",
       "      <td>702.0</td>\n",
       "    </tr>\n",
       "    <tr>\n",
       "      <td>f</td>\n",
       "      <td>18973</td>\n",
       "      <td>0.7522450620227193</td>\n",
       "      <td>5.219846400923698</td>\n",
       "      <td>0.0</td>\n",
       "      <td>520.0</td>\n",
       "    </tr>\n",
       "    <tr>\n",
       "      <td>TTratio</td>\n",
       "      <td>18974</td>\n",
       "      <td>0.6215939784007478</td>\n",
       "      <td>4.099651621702505</td>\n",
       "      <td>0.0</td>\n",
       "      <td>282.0</td>\n",
       "    </tr>\n",
       "    <tr>\n",
       "      <td>hapax</td>\n",
       "      <td>18974</td>\n",
       "      <td>0.549710849081731</td>\n",
       "      <td>5.115195760501201</td>\n",
       "      <td>0.0</td>\n",
       "      <td>546.9642857142857</td>\n",
       "    </tr>\n",
       "    <tr>\n",
       "      <td>HonoreMeasureR</td>\n",
       "      <td>18974</td>\n",
       "      <td>563.5859974689117</td>\n",
       "      <td>85.75188461920456</td>\n",
       "      <td>0.0</td>\n",
       "      <td>937.8478484253662</td>\n",
       "    </tr>\n",
       "    <tr>\n",
       "      <td>dihapax</td>\n",
       "      <td>18975</td>\n",
       "      <td>0.1921251191410108</td>\n",
       "      <td>7.560258229533558</td>\n",
       "      <td>0.0</td>\n",
       "      <td>589.715386763674</td>\n",
       "    </tr>\n",
       "    <tr>\n",
       "      <td>SichelesMeasureS</td>\n",
       "      <td>18976</td>\n",
       "      <td>0.21041780442278926</td>\n",
       "      <td>6.33895986252856</td>\n",
       "      <td>0.0</td>\n",
       "      <td>597.6350909297934</td>\n",
       "    </tr>\n",
       "    <tr>\n",
       "      <td>YuleK</td>\n",
       "      <td>18977</td>\n",
       "      <td>2715.087904036541</td>\n",
       "      <td>1133.8925418542944</td>\n",
       "      <td>0.0</td>\n",
       "      <td>9666.666666666666</td>\n",
       "    </tr>\n",
       "    <tr>\n",
       "      <td>S</td>\n",
       "      <td>18979</td>\n",
       "      <td>1.5343007608882278</td>\n",
       "      <td>33.89177083112721</td>\n",
       "      <td>0.0</td>\n",
       "      <td>3037.2881355932204</td>\n",
       "    </tr>\n",
       "    <tr>\n",
       "      <td>B</td>\n",
       "      <td>18979</td>\n",
       "      <td>34.3358085975286</td>\n",
       "      <td>27.816167211384432</td>\n",
       "      <td>0.0</td>\n",
       "      <td>2208.637171790049</td>\n",
       "    </tr>\n",
       "    <tr>\n",
       "      <td>Shannon</td>\n",
       "      <td>18979</td>\n",
       "      <td>7.41917410223707</td>\n",
       "      <td>26.594591784891005</td>\n",
       "      <td>0.0</td>\n",
       "      <td>2721.8380465133714</td>\n",
       "    </tr>\n",
       "    <tr>\n",
       "      <td>FR</td>\n",
       "      <td>18979</td>\n",
       "      <td>43.50327199022777</td>\n",
       "      <td>36.69773618900111</td>\n",
       "      <td>-388.4099999999999</td>\n",
       "      <td>3418.441403926234</td>\n",
       "    </tr>\n",
       "    <tr>\n",
       "      <td>FC</td>\n",
       "      <td>18980</td>\n",
       "      <td>15.278552396562173</td>\n",
       "      <td>21.123081434626588</td>\n",
       "      <td>-3.01</td>\n",
       "      <td>2737.2050748674123</td>\n",
       "    </tr>\n",
       "    <tr>\n",
       "      <td>D</td>\n",
       "      <td>18980</td>\n",
       "      <td>12.860228781682295</td>\n",
       "      <td>40.562941392813244</td>\n",
       "      <td>0.0</td>\n",
       "      <td>4053.772290809328</td>\n",
       "    </tr>\n",
       "    <tr>\n",
       "      <td>G</td>\n",
       "      <td>18982</td>\n",
       "      <td>18.812219203644947</td>\n",
       "      <td>40.66432553299681</td>\n",
       "      <td>0.0</td>\n",
       "      <td>4598.611111111111</td>\n",
       "    </tr>\n",
       "    <tr>\n",
       "      <td>topic</td>\n",
       "      <td>18966</td>\n",
       "      <td>13.916591921649268</td>\n",
       "      <td>10.915004979094247</td>\n",
       "      <td>0.0</td>\n",
       "      <td>1318.0</td>\n",
       "    </tr>\n",
       "  </tbody>\n",
       "</table>\n",
       "</div>"
      ],
      "text/plain": [
       "                                       0                    1  \\\n",
       "summary                            count                 mean   \n",
       "avg_senti_score                    18994  0.14574785456369205   \n",
       "Number of comments                 18994     47.7158576392545   \n",
       "Number of retrieved inlinks        18948   10.893181338399831   \n",
       "Post Length (#words)               18953   377.83290244288503   \n",
       "Post Length (#words no stopwords)  18955    266.7200738591401   \n",
       "MEIBI score                        18961    14.32283896540266   \n",
       "meanwl                             18966    6.200211224891673   \n",
       "meansl                             18967   189.56863858138868   \n",
       "mean                               18968   30.533169344280488   \n",
       "meanSyllable                       18969   1.9513303692381216   \n",
       "means                              18971  0.09363420933769605   \n",
       "p                                  18972  0.09105398595113667   \n",
       "f                                  18973   0.7522450620227193   \n",
       "TTratio                            18974   0.6215939784007478   \n",
       "hapax                              18974    0.549710849081731   \n",
       "HonoreMeasureR                     18974    563.5859974689117   \n",
       "dihapax                            18975   0.1921251191410108   \n",
       "SichelesMeasureS                   18976  0.21041780442278926   \n",
       "YuleK                              18977    2715.087904036541   \n",
       "S                                  18979   1.5343007608882278   \n",
       "B                                  18979     34.3358085975286   \n",
       "Shannon                            18979     7.41917410223707   \n",
       "FR                                 18979    43.50327199022777   \n",
       "FC                                 18980   15.278552396562173   \n",
       "D                                  18980   12.860228781682295   \n",
       "G                                  18982   18.812219203644947   \n",
       "topic                              18966   13.916591921649268   \n",
       "\n",
       "                                                     2                   3  \\\n",
       "summary                                         stddev                 min   \n",
       "avg_senti_score                    0.08742542575999103                -1.0   \n",
       "Number of comments                   64.49944133956792                 0.0   \n",
       "Number of retrieved inlinks         113.40113759604314                 0.0   \n",
       "Post Length (#words)                 416.6416495389561                 1.0   \n",
       "Post Length (#words no stopwords)   297.37768694760354                 0.0   \n",
       "MEIBI score                          124.5878637568447                 0.0   \n",
       "meanwl                              10.271334971967743                 0.0   \n",
       "meansl                               101.5260320578454                 0.0   \n",
       "mean                                23.163371746947316                 0.0   \n",
       "meanSyllable                         8.546747507685597                 0.0   \n",
       "means                                6.617649520995014                 0.0   \n",
       "p                                    5.446342323024511                 0.0   \n",
       "f                                    5.219846400923698                 0.0   \n",
       "TTratio                              4.099651621702505                 0.0   \n",
       "hapax                                5.115195760501201                 0.0   \n",
       "HonoreMeasureR                       85.75188461920456                 0.0   \n",
       "dihapax                              7.560258229533558                 0.0   \n",
       "SichelesMeasureS                      6.33895986252856                 0.0   \n",
       "YuleK                               1133.8925418542944                 0.0   \n",
       "S                                    33.89177083112721                 0.0   \n",
       "B                                   27.816167211384432                 0.0   \n",
       "Shannon                             26.594591784891005                 0.0   \n",
       "FR                                   36.69773618900111  -388.4099999999999   \n",
       "FC                                  21.123081434626588               -3.01   \n",
       "D                                   40.562941392813244                 0.0   \n",
       "G                                    40.66432553299681                 0.0   \n",
       "topic                               10.915004979094247                 0.0   \n",
       "\n",
       "                                                    4  \n",
       "summary                                           max  \n",
       "avg_senti_score                                   1.0  \n",
       "Number of comments                              995.0  \n",
       "Number of retrieved inlinks                   15497.0  \n",
       "Post Length (#words)                          11363.0  \n",
       "Post Length (#words no stopwords)              8119.0  \n",
       "MEIBI score                                    7560.0  \n",
       "meanwl                                         1318.0  \n",
       "meansl                                         3504.0  \n",
       "mean                                           2089.0  \n",
       "meanSyllable                                   1158.0  \n",
       "means                                           859.0  \n",
       "p                                               702.0  \n",
       "f                                               520.0  \n",
       "TTratio                                         282.0  \n",
       "hapax                               546.9642857142857  \n",
       "HonoreMeasureR                      937.8478484253662  \n",
       "dihapax                              589.715386763674  \n",
       "SichelesMeasureS                    597.6350909297934  \n",
       "YuleK                               9666.666666666666  \n",
       "S                                  3037.2881355932204  \n",
       "B                                   2208.637171790049  \n",
       "Shannon                            2721.8380465133714  \n",
       "FR                                  3418.441403926234  \n",
       "FC                                 2737.2050748674123  \n",
       "D                                   4053.772290809328  \n",
       "G                                   4598.611111111111  \n",
       "topic                                          1318.0  "
      ]
     },
     "execution_count": 31,
     "metadata": {},
     "output_type": "execute_result"
    },
    {
     "name": "stdout",
     "output_type": "stream",
     "text": [
      "time: 2.29 s\n"
     ]
    }
   ],
   "source": [
    "# Look at the statistics of each variable\n",
    "all_feats.describe().toPandas().transpose()"
   ]
  },
  {
   "cell_type": "markdown",
   "metadata": {},
   "source": [
    "### Draw the heatmap to show the correlation between independent variables:"
   ]
  },
  {
   "cell_type": "code",
   "execution_count": 33,
   "metadata": {},
   "outputs": [
    {
     "name": "stdout",
     "output_type": "stream",
     "text": [
      "time: 2.55 s\n"
     ]
    }
   ],
   "source": [
    "from pyspark.ml.stat import Correlation\n",
    "\n",
    "columns = all_feats.columns\n",
    "assembler = VectorAssembler(inputCols=columns, \n",
    "                            outputCol=\"corr_features\",handleInvalid='skip')\n",
    "myGraph_vector = assembler.transform(all_feats).select(\"corr_features\")\n",
    "matrix = Correlation.corr(myGraph_vector, \"corr_features\")"
   ]
  },
  {
   "cell_type": "code",
   "execution_count": 34,
   "metadata": {},
   "outputs": [
    {
     "data": {
      "text/html": [
       "<div>\n",
       "<style scoped>\n",
       "    .dataframe tbody tr th:only-of-type {\n",
       "        vertical-align: middle;\n",
       "    }\n",
       "\n",
       "    .dataframe tbody tr th {\n",
       "        vertical-align: top;\n",
       "    }\n",
       "\n",
       "    .dataframe thead th {\n",
       "        text-align: right;\n",
       "    }\n",
       "</style>\n",
       "<table border=\"1\" class=\"dataframe\">\n",
       "  <thead>\n",
       "    <tr style=\"text-align: right;\">\n",
       "      <th></th>\n",
       "      <th>avg_senti_score</th>\n",
       "      <th>Number of comments</th>\n",
       "      <th>Number of retrieved inlinks</th>\n",
       "      <th>Post Length (#words)</th>\n",
       "      <th>Post Length (#words no stopwords)</th>\n",
       "      <th>MEIBI score</th>\n",
       "      <th>meanwl</th>\n",
       "      <th>meansl</th>\n",
       "      <th>mean</th>\n",
       "      <th>meanSyllable</th>\n",
       "      <th>...</th>\n",
       "      <th>SichelesMeasureS</th>\n",
       "      <th>YuleK</th>\n",
       "      <th>S</th>\n",
       "      <th>B</th>\n",
       "      <th>Shannon</th>\n",
       "      <th>FR</th>\n",
       "      <th>FC</th>\n",
       "      <th>D</th>\n",
       "      <th>G</th>\n",
       "      <th>topic</th>\n",
       "    </tr>\n",
       "  </thead>\n",
       "  <tbody>\n",
       "    <tr>\n",
       "      <td>avg_senti_score</td>\n",
       "      <td>1.000</td>\n",
       "      <td>-0.103</td>\n",
       "      <td>-0.047</td>\n",
       "      <td>0.005</td>\n",
       "      <td>0.008</td>\n",
       "      <td>-0.038</td>\n",
       "      <td>0.064</td>\n",
       "      <td>-0.001</td>\n",
       "      <td>-0.007</td>\n",
       "      <td>0.071</td>\n",
       "      <td>...</td>\n",
       "      <td>-0.022</td>\n",
       "      <td>0.017</td>\n",
       "      <td>0.004</td>\n",
       "      <td>0.007</td>\n",
       "      <td>0.005</td>\n",
       "      <td>-0.040</td>\n",
       "      <td>0.012</td>\n",
       "      <td>0.033</td>\n",
       "      <td>0.012</td>\n",
       "      <td>-0.092</td>\n",
       "    </tr>\n",
       "    <tr>\n",
       "      <td>Number of comments</td>\n",
       "      <td>-0.103</td>\n",
       "      <td>1.000</td>\n",
       "      <td>0.579</td>\n",
       "      <td>0.201</td>\n",
       "      <td>0.199</td>\n",
       "      <td>0.308</td>\n",
       "      <td>-0.105</td>\n",
       "      <td>-0.086</td>\n",
       "      <td>-0.079</td>\n",
       "      <td>-0.114</td>\n",
       "      <td>...</td>\n",
       "      <td>0.081</td>\n",
       "      <td>-0.186</td>\n",
       "      <td>0.005</td>\n",
       "      <td>0.239</td>\n",
       "      <td>0.161</td>\n",
       "      <td>0.138</td>\n",
       "      <td>-0.104</td>\n",
       "      <td>-0.134</td>\n",
       "      <td>-0.106</td>\n",
       "      <td>0.112</td>\n",
       "    </tr>\n",
       "    <tr>\n",
       "      <td>Number of retrieved inlinks</td>\n",
       "      <td>-0.047</td>\n",
       "      <td>0.579</td>\n",
       "      <td>1.000</td>\n",
       "      <td>0.166</td>\n",
       "      <td>0.165</td>\n",
       "      <td>0.231</td>\n",
       "      <td>-0.035</td>\n",
       "      <td>-0.039</td>\n",
       "      <td>-0.034</td>\n",
       "      <td>-0.043</td>\n",
       "      <td>...</td>\n",
       "      <td>0.077</td>\n",
       "      <td>-0.165</td>\n",
       "      <td>0.006</td>\n",
       "      <td>0.190</td>\n",
       "      <td>0.139</td>\n",
       "      <td>0.065</td>\n",
       "      <td>-0.048</td>\n",
       "      <td>-0.073</td>\n",
       "      <td>-0.048</td>\n",
       "      <td>0.050</td>\n",
       "    </tr>\n",
       "    <tr>\n",
       "      <td>Post Length (#words)</td>\n",
       "      <td>0.005</td>\n",
       "      <td>0.201</td>\n",
       "      <td>0.166</td>\n",
       "      <td>1.000</td>\n",
       "      <td>0.999</td>\n",
       "      <td>0.078</td>\n",
       "      <td>-0.037</td>\n",
       "      <td>-0.013</td>\n",
       "      <td>-0.003</td>\n",
       "      <td>-0.001</td>\n",
       "      <td>...</td>\n",
       "      <td>0.204</td>\n",
       "      <td>-0.502</td>\n",
       "      <td>0.058</td>\n",
       "      <td>0.889</td>\n",
       "      <td>0.516</td>\n",
       "      <td>0.060</td>\n",
       "      <td>-0.019</td>\n",
       "      <td>-0.077</td>\n",
       "      <td>-0.015</td>\n",
       "      <td>0.067</td>\n",
       "    </tr>\n",
       "    <tr>\n",
       "      <td>Post Length (#words no stopwords)</td>\n",
       "      <td>0.008</td>\n",
       "      <td>0.199</td>\n",
       "      <td>0.165</td>\n",
       "      <td>0.999</td>\n",
       "      <td>1.000</td>\n",
       "      <td>0.077</td>\n",
       "      <td>-0.031</td>\n",
       "      <td>-0.009</td>\n",
       "      <td>-0.001</td>\n",
       "      <td>0.005</td>\n",
       "      <td>...</td>\n",
       "      <td>0.203</td>\n",
       "      <td>-0.498</td>\n",
       "      <td>0.059</td>\n",
       "      <td>0.891</td>\n",
       "      <td>0.519</td>\n",
       "      <td>0.053</td>\n",
       "      <td>-0.014</td>\n",
       "      <td>-0.064</td>\n",
       "      <td>-0.011</td>\n",
       "      <td>0.060</td>\n",
       "    </tr>\n",
       "  </tbody>\n",
       "</table>\n",
       "<p>5 rows × 27 columns</p>\n",
       "</div>"
      ],
      "text/plain": [
       "                                   avg_senti_score  Number of comments  \\\n",
       "avg_senti_score                              1.000              -0.103   \n",
       "Number of comments                          -0.103               1.000   \n",
       "Number of retrieved inlinks                 -0.047               0.579   \n",
       "Post Length (#words)                         0.005               0.201   \n",
       "Post Length (#words no stopwords)            0.008               0.199   \n",
       "\n",
       "                                   Number of retrieved inlinks  \\\n",
       "avg_senti_score                                         -0.047   \n",
       "Number of comments                                       0.579   \n",
       "Number of retrieved inlinks                              1.000   \n",
       "Post Length (#words)                                     0.166   \n",
       "Post Length (#words no stopwords)                        0.165   \n",
       "\n",
       "                                   Post Length (#words)  \\\n",
       "avg_senti_score                                   0.005   \n",
       "Number of comments                                0.201   \n",
       "Number of retrieved inlinks                       0.166   \n",
       "Post Length (#words)                              1.000   \n",
       "Post Length (#words no stopwords)                 0.999   \n",
       "\n",
       "                                   Post Length (#words no stopwords)  \\\n",
       "avg_senti_score                                                0.008   \n",
       "Number of comments                                             0.199   \n",
       "Number of retrieved inlinks                                    0.165   \n",
       "Post Length (#words)                                           0.999   \n",
       "Post Length (#words no stopwords)                              1.000   \n",
       "\n",
       "                                   MEIBI score  meanwl  meansl   mean  \\\n",
       "avg_senti_score                         -0.038   0.064  -0.001 -0.007   \n",
       "Number of comments                       0.308  -0.105  -0.086 -0.079   \n",
       "Number of retrieved inlinks              0.231  -0.035  -0.039 -0.034   \n",
       "Post Length (#words)                     0.078  -0.037  -0.013 -0.003   \n",
       "Post Length (#words no stopwords)        0.077  -0.031  -0.009 -0.001   \n",
       "\n",
       "                                   meanSyllable  ...  SichelesMeasureS  YuleK  \\\n",
       "avg_senti_score                           0.071  ...            -0.022  0.017   \n",
       "Number of comments                       -0.114  ...             0.081 -0.186   \n",
       "Number of retrieved inlinks              -0.043  ...             0.077 -0.165   \n",
       "Post Length (#words)                     -0.001  ...             0.204 -0.502   \n",
       "Post Length (#words no stopwords)         0.005  ...             0.203 -0.498   \n",
       "\n",
       "                                       S      B  Shannon     FR     FC      D  \\\n",
       "avg_senti_score                    0.004  0.007    0.005 -0.040  0.012  0.033   \n",
       "Number of comments                 0.005  0.239    0.161  0.138 -0.104 -0.134   \n",
       "Number of retrieved inlinks        0.006  0.190    0.139  0.065 -0.048 -0.073   \n",
       "Post Length (#words)               0.058  0.889    0.516  0.060 -0.019 -0.077   \n",
       "Post Length (#words no stopwords)  0.059  0.891    0.519  0.053 -0.014 -0.064   \n",
       "\n",
       "                                       G  topic  \n",
       "avg_senti_score                    0.012 -0.092  \n",
       "Number of comments                -0.106  0.112  \n",
       "Number of retrieved inlinks       -0.048  0.050  \n",
       "Post Length (#words)              -0.015  0.067  \n",
       "Post Length (#words no stopwords) -0.011  0.060  \n",
       "\n",
       "[5 rows x 27 columns]"
      ]
     },
     "execution_count": 34,
     "metadata": {},
     "output_type": "execute_result"
    },
    {
     "name": "stdout",
     "output_type": "stream",
     "text": [
      "time: 1.63 s\n"
     ]
    }
   ],
   "source": [
    "# Plot the correlation matrix\n",
    "matrix = Correlation.corr(myGraph_vector, 'corr_features').collect()[0][0]\n",
    "corrmatrix = matrix.toArray().tolist()\n",
    "\n",
    "heatmap_df = pd.DataFrame(corrmatrix, index = columns, columns=columns)\n",
    "heatmap_df = heatmap_df.round(3)\n",
    "heatmap_df.head()"
   ]
  },
  {
   "cell_type": "code",
   "execution_count": 35,
   "metadata": {
    "scrolled": false
   },
   "outputs": [
    {
     "data": {
      "image/png": "[encoded data removed]",
      "text/plain": [
       "<Figure size 1440x720 with 2 Axes>"
      ]
     },
     "metadata": {},
     "output_type": "display_data"
    },
    {
     "name": "stdout",
     "output_type": "stream",
     "text": [
      "time: 1.92 s\n"
     ]
    }
   ],
   "source": [
    "import pandas as pd\n",
    "import seaborn as sns\n",
    "import matplotlib.pyplot as plt\n",
    "\n",
    "sns.set(rc={'figure.figsize':(20,10)})\n",
    "sns.heatmap(heatmap_df, annot=True, fmt=\"g\", cmap='viridis')\n",
    "plt.show()"
   ]
  },
  {
   "cell_type": "markdown",
   "metadata": {},
   "source": [
    "#### From the heatmap above, we can notice that the the 'Post Length (#words)', and 'Post Length (#words no stopwords)' are very similar, so we only keep 'Post Length (#words)'.\n",
    "\n",
    "#### For the Lexical Features: 'Average Word Length', 'Average Syllable per Word', and 'Functional Words Count'  are highly correlated; 'Average Sentence Length By Word' and 'Average Sentence Length By Character' is highly correlated; 'Shannon' stands for 'Shannon Entropy' and 'S' is the 'Simpson's Index', and they both reflects the diversity or diorder of the system , here we keep one of them. So for Lexical Features, we only keep 'Average Word Length', 'Average Sentence Length By Word', 'Special Character Count', 'Punctuation Count', and 'S'(Simposn's Index).\n",
    "\n",
    "#### For Vocabulary Richness Features: 'TTratio' measures words richness,  'hapax' relect the number of words that show up only once,  'YuleK' depends on words with all frequencies, and 'HonoreMeasureR' dependens on 'hapax'; they are intuitively highly correlated; 'SichelesMeasureS' depends on 'dihapax', which is the number of words show up twice; so for Vocabulary Richness Features, we only keep 'TTratio', 'dihapax', and 'B'.\n",
    "\n",
    "#### For Readability Scores: from the heatmap, it is obvious that 'FR', 'FC', 'D', 'G' are highly correlated. Thay are all features that measures the readbility of the text using different equations. So, we only keep 'D' , which has the lowest correlations with other independent variables."
   ]
  },
  {
   "cell_type": "markdown",
   "metadata": {},
   "source": [
    "#### Combine all features into one vector."
   ]
  },
  {
   "cell_type": "code",
   "execution_count": 76,
   "metadata": {},
   "outputs": [
    {
     "name": "stdout",
     "output_type": "stream",
     "text": [
      "time: 906 ms\n"
     ]
    }
   ],
   "source": [
    "#Perfom on hot encoding for the 'topic' variable to transform it from categorical to numerical\n",
    "\n",
    "all_feats = all_feats.na.drop(subset=[\"topic\"])\n",
    "\n",
    "topic_df = all_feats.select('topic')  \n",
    "\n",
    "encoder = OneHotEncoder(inputCol=\"topic\", outputCol=\"topic_vector\")\n",
    "encoded_df = encoder.transform(topic_df)"
   ]
  },
  {
   "cell_type": "code",
   "execution_count": 77,
   "metadata": {
    "scrolled": true
   },
   "outputs": [
    {
     "name": "stdout",
     "output_type": "stream",
     "text": [
      "+-------+-------+-------+-------+-------+-------+-------+-------+-------+-------+--------+--------+--------+--------+--------+--------+--------+--------+--------+-----+\n",
      "|topic_0|topic_1|topic_2|topic_3|topic_4|topic_5|topic_6|topic_7|topic_8|topic_9|topic_10|topic_11|topic_12|topic_13|topic_14|topic_15|topic_16|topic_17|topic_18|index|\n",
      "+-------+-------+-------+-------+-------+-------+-------+-------+-------+-------+--------+--------+--------+--------+--------+--------+--------+--------+--------+-----+\n",
      "|    0.0|    0.0|    0.0|    0.0|    0.0|    0.0|    0.0|    0.0|    0.0|    0.0|     0.0|     0.0|     0.0|     0.0|     0.0|     0.0|     1.0|     0.0|     0.0|    1|\n",
      "|    0.0|    0.0|    0.0|    0.0|    0.0|    0.0|    0.0|    0.0|    0.0|    0.0|     0.0|     0.0|     0.0|     0.0|     0.0|     0.0|     1.0|     0.0|     0.0|    2|\n",
      "|    0.0|    0.0|    0.0|    0.0|    0.0|    0.0|    0.0|    0.0|    0.0|    0.0|     0.0|     0.0|     0.0|     0.0|     0.0|     0.0|     0.0|     0.0|     1.0|    3|\n",
      "|    0.0|    0.0|    0.0|    0.0|    0.0|    0.0|    0.0|    0.0|    0.0|    0.0|     0.0|     0.0|     0.0|     0.0|     0.0|     0.0|     0.0|     0.0|     1.0|    4|\n",
      "|    0.0|    0.0|    0.0|    0.0|    0.0|    0.0|    0.0|    0.0|    0.0|    0.0|     0.0|     0.0|     1.0|     0.0|     0.0|     0.0|     0.0|     0.0|     0.0|    5|\n",
      "|    0.0|    0.0|    0.0|    0.0|    0.0|    1.0|    0.0|    0.0|    0.0|    0.0|     0.0|     0.0|     0.0|     0.0|     0.0|     0.0|     0.0|     0.0|     0.0|    6|\n",
      "|    0.0|    0.0|    0.0|    0.0|    0.0|    0.0|    0.0|    0.0|    0.0|    0.0|     1.0|     0.0|     0.0|     0.0|     0.0|     0.0|     0.0|     0.0|     0.0|    7|\n",
      "|    0.0|    0.0|    0.0|    0.0|    0.0|    0.0|    0.0|    0.0|    0.0|    0.0|     0.0|     0.0|     0.0|     0.0|     0.0|     0.0|     1.0|     0.0|     0.0|    8|\n",
      "|    0.0|    0.0|    0.0|    0.0|    0.0|    0.0|    0.0|    0.0|    0.0|    0.0|     0.0|     0.0|     1.0|     0.0|     0.0|     0.0|     0.0|     0.0|     0.0|    9|\n",
      "|    0.0|    0.0|    0.0|    0.0|    0.0|    0.0|    0.0|    0.0|    0.0|    0.0|     0.0|     0.0|     0.0|     0.0|     0.0|     0.0|     1.0|     0.0|     0.0|   10|\n",
      "|    0.0|    0.0|    0.0|    0.0|    0.0|    0.0|    0.0|    0.0|    0.0|    0.0|     0.0|     0.0|     1.0|     0.0|     0.0|     0.0|     0.0|     0.0|     0.0|   11|\n",
      "|    0.0|    0.0|    0.0|    0.0|    0.0|    0.0|    0.0|    0.0|    0.0|    0.0|     0.0|     0.0|     0.0|     0.0|     0.0|     0.0|     1.0|     0.0|     0.0|   12|\n",
      "|    0.0|    0.0|    0.0|    0.0|    0.0|    0.0|    0.0|    0.0|    0.0|    0.0|     0.0|     0.0|     1.0|     0.0|     0.0|     0.0|     0.0|     0.0|     0.0|   13|\n",
      "|    0.0|    0.0|    0.0|    0.0|    0.0|    0.0|    0.0|    0.0|    0.0|    0.0|     0.0|     0.0|     0.0|     0.0|     1.0|     0.0|     0.0|     0.0|     0.0|   14|\n",
      "|    0.0|    0.0|    0.0|    0.0|    0.0|    0.0|    0.0|    0.0|    0.0|    0.0|     0.0|     0.0|     0.0|     0.0|     0.0|     0.0|     1.0|     0.0|     0.0|   15|\n",
      "|    0.0|    0.0|    0.0|    0.0|    0.0|    0.0|    0.0|    0.0|    0.0|    0.0|     0.0|     0.0|     0.0|     0.0|     0.0|     0.0|     1.0|     0.0|     0.0|   16|\n",
      "|    0.0|    0.0|    0.0|    0.0|    0.0|    1.0|    0.0|    0.0|    0.0|    0.0|     0.0|     0.0|     0.0|     0.0|     0.0|     0.0|     0.0|     0.0|     0.0|   17|\n",
      "|    0.0|    0.0|    0.0|    0.0|    0.0|    0.0|    0.0|    0.0|    0.0|    0.0|     0.0|     0.0|     0.0|     0.0|     0.0|     0.0|     1.0|     0.0|     0.0|   18|\n",
      "|    0.0|    0.0|    0.0|    0.0|    0.0|    0.0|    0.0|    0.0|    0.0|    0.0|     0.0|     0.0|     0.0|     0.0|     0.0|     0.0|     1.0|     0.0|     0.0|   19|\n",
      "|    0.0|    0.0|    0.0|    0.0|    0.0|    0.0|    0.0|    0.0|    0.0|    0.0|     1.0|     0.0|     0.0|     0.0|     0.0|     0.0|     0.0|     0.0|     0.0|   20|\n",
      "+-------+-------+-------+-------+-------+-------+-------+-------+-------+-------+--------+--------+--------+--------+--------+--------+--------+--------+--------+-----+\n",
      "only showing top 20 rows\n",
      "\n",
      "time: 6.75 s\n"
     ]
    }
   ],
   "source": [
    "# transform from array to pyspark dataframe\n",
    "x_3d = np.array(encoded_df.select('topic_vector').collect())\n",
    "rows, idx, size = x_3d.shape\n",
    "X = x_3d.reshape(rows, size)\n",
    "X = X.tolist()\n",
    "\n",
    "topic_encoded = sc.parallelize(X).toDF(('topic_0', 'topic_1', 'topic_2', 'topic_3', 'topic_4', 'topic_5','topic_6', 'topic_7',\n",
    "                            'topic_8', 'topic_9', 'topic_10', 'topic_11', 'topic_12', 'topic_13','topic_14', 'topic_15',\n",
    "                            'topic_16', 'topic_17', 'topic_18'))\n",
    "    \n",
    "\n",
    "w = Window.orderBy(\"topic_0\") \n",
    "topic_encoded = topic_encoded.withColumn(\"index\", F.row_number().over(w))   \n",
    "topic_encoded.show()"
   ]
  },
  {
   "cell_type": "code",
   "execution_count": 78,
   "metadata": {
    "scrolled": true
   },
   "outputs": [
    {
     "name": "stdout",
     "output_type": "stream",
     "text": [
      "+--------------------+------------------+---------------------------+--------------------+-------------------+------------------+------------------+--------------------+--------------------+-------------------+--------------------+------------------+------------------+-----+\n",
      "|     avg_senti_score|Number of comments|Number of retrieved inlinks|Post Length (#words)|        MEIBI score|            meanwl|            meansl|               means|                   p|            TTratio|             dihapax|                 D|                 S|index|\n",
      "+--------------------+------------------+---------------------------+--------------------+-------------------+------------------+------------------+--------------------+--------------------+-------------------+--------------------+------------------+------------------+-----+\n",
      "|                -1.0|               4.0|                        0.0|               280.0|                0.0| 5.939024390243903|235.42857142857142|0.019879518072289156|0.022289156626506025| 0.5014005602240896|0.061224489795918366|12.164597959183673|0.9923846671774512|    1|\n",
      "| -0.6500000059604645|               6.0|                        6.0|               173.0|            0.08612| 6.517241379310345|             213.6|0.009328358208955223| 0.01958955223880597| 0.6296296296296297| 0.10975609756097561|14.121184878048782|0.9922190632949275|    2|\n",
      "|                -0.5|               2.0|                        0.0|               459.0|                0.0| 5.745098039215686|            162.25|0.017617770968977403|0.025277671390271927| 0.4072790294627383| 0.07368421052631578|10.859884210526316|0.9902287363979569|    3|\n",
      "|                -0.5|               4.0|                        0.0|                12.0|                0.0|               5.6|              32.0|             0.03125|             0.03125|                1.0|                 0.0|19.674500000000002|               1.0|    4|\n",
      "|-0.45178572088479996|               4.0|                        1.0|               449.0|             0.0094| 6.248062015503876|206.30769230769232|0.011799410029498525| 0.01364306784660767| 0.4526112185686654| 0.06564551422319474|12.014003854569937|0.9897788782678798|    5|\n",
      "| -0.4000000059604645|               3.0|                        1.0|               180.0|            0.14815| 6.848214285714286| 373.6666666666667|0.013357079252003561| 0.02404274265360641| 0.6318407960199005| 0.04597701149425287|14.680541379310345| 0.989768121719487|    6|\n",
      "| -0.4000000059604645|               7.0|                        5.0|               121.0|            0.03807| 6.916666666666667|             145.2|0.001369863013698...|0.019178082191780823| 0.7073170731707317| 0.05357142857142857|          12.64254|0.9901866151866152|    7|\n",
      "| -0.2916666567325592|               2.0|                        0.0|               490.0|                0.0|  5.64748201438849|             134.5|0.006967363403006967|0.020535386872020535|0.43209876543209874| 0.06813627254509018| 11.80389975951904| 0.989810947195596|    8|\n",
      "| -0.2715909058849017|               8.0|                        2.0|                40.0|            0.08408|              5.65|              89.5|                 0.0|0.011111111111111112| 0.9090909090909091| 0.06451612903225806|11.026912903225806|0.9956989247311828|    9|\n",
      "| -0.2666666805744171|               7.0|                        0.0|               341.0|                0.0| 6.615763546798029|176.58333333333334|  0.0107981220657277| 0.03051643192488263| 0.5245098039215687| 0.09009009009009009|  12.3625996996997| 0.993885451716777|   10|\n",
      "|          -0.2578125|               3.0|                        0.0|                22.0|                0.0|               7.0|             127.0|0.015748031496062992|0.047244094488188976| 0.8333333333333334|                 0.0|           16.2726|               1.0|   11|\n",
      "|-0.25722222588956356|              10.0|                        4.0|                74.0|            0.04145| 6.586956521739131|             113.5|0.010917030567685589|0.024017467248908297|               0.75| 0.12162162162162163|           12.4491|0.9944465012958164|   12|\n",
      "|  -0.256018524368604|               0.0|                        1.0|               211.0|            0.02195| 6.305084745762712|178.42857142857142|0.006349206349206349| 0.02142857142857143| 0.5684647302904564| 0.08173076923076923|12.094367032967034|0.9894091415830546|   13|\n",
      "|               -0.25|               4.0|                        4.0|               133.0|0.06788999999999999| 7.453608247422681|131.71428571428572|0.009698275862068966|0.022629310344827586| 0.6758620689655173|                0.08|15.133094285714288|0.9935483870967742|   14|\n",
      "| -0.2395833358168602|              35.0|                       15.0|                80.0|            0.10824| 5.816326530612245|143.33333333333334| 0.02546296296296296| 0.02546296296296296| 0.7303370786516854|  0.1780821917808219|12.846584018264842|0.9939117199391172|   15|\n",
      "|-0.22202381225568907|               7.0|                        0.0|               248.0|                0.0| 6.658227848101266| 257.1666666666667| 0.00516795865633075|0.020025839793281652| 0.6333333333333333| 0.04564315352697095|13.753082019363761|0.9926002766251729|   16|\n",
      "|            -0.21875|               1.0|                        0.0|               349.0|                0.0| 6.589285714285714|183.16666666666666|0.012217194570135747| 0.01764705882352941|0.48635235732009924| 0.06267806267806268|13.409664672364674|0.9920716320716321|   17|\n",
      "|-0.21401134878396988|              11.0|                        4.0|               167.0|0.27273000000000003| 6.541666666666667|             194.2|0.006160164271047228| 0.01642710472279261| 0.7028571428571428|  0.0440251572327044|12.165352327044024| 0.990048563012499|   18|\n",
      "|-0.21060606092214584|               0.0|                        5.0|               603.0|            0.24955|6.2979274611398965|          225.9375| 0.00989282769991756|0.027480076944215445| 0.5319767441860465| 0.07167832167832168|13.967217482517484|0.9941398356459652|   19|\n",
      "| -0.2043923611442248|              16.0|                       24.0|               118.0|               6.24|6.0476190476190474|            163.75|0.015197568389057751| 0.02127659574468085| 0.7111111111111111| 0.07894736842105263|12.529573684210526|0.9942555503803757|   20|\n",
      "+--------------------+------------------+---------------------------+--------------------+-------------------+------------------+------------------+--------------------+--------------------+-------------------+--------------------+------------------+------------------+-----+\n",
      "only showing top 20 rows\n",
      "\n",
      "time: 1.02 s\n"
     ]
    }
   ],
   "source": [
    "# Extract features that we need in the regression\n",
    "cols=['avg_senti_score','Number of comments', 'Number of retrieved inlinks', 'Post Length (#words)', \n",
    "      'MEIBI score', 'meanwl', 'meansl','means','p','TTratio', 'dihapax', 'D','S']\n",
    "reg_df = all_feats.select(cols)\n",
    "\n",
    "w = Window.orderBy(\"avg_senti_score\") \n",
    "reg_df = reg_df.withColumn(\"index\", F.row_number().over(w))   \n",
    "reg_df.show()"
   ]
  },
  {
   "cell_type": "code",
   "execution_count": 79,
   "metadata": {
    "scrolled": true
   },
   "outputs": [
    {
     "name": "stdout",
     "output_type": "stream",
     "text": [
      "+--------------------+------------------+---------------------------+--------------------+-------------------+------------------+------------------+--------------------+--------------------+-------------------+--------------------+------------------+------------------+-----+-------+-------+-------+-------+-------+-------+-------+-------+-------+-------+--------+--------+--------+--------+--------+--------+--------+--------+--------+\n",
      "|     avg_senti_score|Number of comments|Number of retrieved inlinks|Post Length (#words)|        MEIBI score|            meanwl|            meansl|               means|                   p|            TTratio|             dihapax|                 D|                 S|index|topic_0|topic_1|topic_2|topic_3|topic_4|topic_5|topic_6|topic_7|topic_8|topic_9|topic_10|topic_11|topic_12|topic_13|topic_14|topic_15|topic_16|topic_17|topic_18|\n",
      "+--------------------+------------------+---------------------------+--------------------+-------------------+------------------+------------------+--------------------+--------------------+-------------------+--------------------+------------------+------------------+-----+-------+-------+-------+-------+-------+-------+-------+-------+-------+-------+--------+--------+--------+--------+--------+--------+--------+--------+--------+\n",
      "|                -1.0|               4.0|                        0.0|               280.0|                0.0| 5.939024390243903|235.42857142857142|0.019879518072289156|0.022289156626506025| 0.5014005602240896|0.061224489795918366|12.164597959183673|0.9923846671774512|    1|    0.0|    0.0|    0.0|    0.0|    0.0|    0.0|    0.0|    0.0|    0.0|    0.0|     0.0|     0.0|     0.0|     0.0|     0.0|     0.0|     1.0|     0.0|     0.0|\n",
      "| -0.6500000059604645|               6.0|                        6.0|               173.0|            0.08612| 6.517241379310345|             213.6|0.009328358208955223| 0.01958955223880597| 0.6296296296296297| 0.10975609756097561|14.121184878048782|0.9922190632949275|    2|    0.0|    0.0|    0.0|    0.0|    0.0|    0.0|    0.0|    0.0|    0.0|    0.0|     0.0|     0.0|     0.0|     0.0|     0.0|     0.0|     1.0|     0.0|     0.0|\n",
      "|                -0.5|               2.0|                        0.0|               459.0|                0.0| 5.745098039215686|            162.25|0.017617770968977403|0.025277671390271927| 0.4072790294627383| 0.07368421052631578|10.859884210526316|0.9902287363979569|    3|    0.0|    0.0|    0.0|    0.0|    0.0|    0.0|    0.0|    0.0|    0.0|    0.0|     0.0|     0.0|     0.0|     0.0|     0.0|     0.0|     0.0|     0.0|     1.0|\n",
      "|                -0.5|               4.0|                        0.0|                12.0|                0.0|               5.6|              32.0|             0.03125|             0.03125|                1.0|                 0.0|19.674500000000002|               1.0|    4|    0.0|    0.0|    0.0|    0.0|    0.0|    0.0|    0.0|    0.0|    0.0|    0.0|     0.0|     0.0|     0.0|     0.0|     0.0|     0.0|     0.0|     0.0|     1.0|\n",
      "|-0.45178572088479996|               4.0|                        1.0|               449.0|             0.0094| 6.248062015503876|206.30769230769232|0.011799410029498525| 0.01364306784660767| 0.4526112185686654| 0.06564551422319474|12.014003854569937|0.9897788782678798|    5|    0.0|    0.0|    0.0|    0.0|    0.0|    0.0|    0.0|    0.0|    0.0|    0.0|     0.0|     0.0|     1.0|     0.0|     0.0|     0.0|     0.0|     0.0|     0.0|\n",
      "| -0.4000000059604645|               3.0|                        1.0|               180.0|            0.14815| 6.848214285714286| 373.6666666666667|0.013357079252003561| 0.02404274265360641| 0.6318407960199005| 0.04597701149425287|14.680541379310345| 0.989768121719487|    6|    0.0|    0.0|    0.0|    0.0|    0.0|    1.0|    0.0|    0.0|    0.0|    0.0|     0.0|     0.0|     0.0|     0.0|     0.0|     0.0|     0.0|     0.0|     0.0|\n",
      "| -0.4000000059604645|               7.0|                        5.0|               121.0|            0.03807| 6.916666666666667|             145.2|0.001369863013698...|0.019178082191780823| 0.7073170731707317| 0.05357142857142857|          12.64254|0.9901866151866152|    7|    0.0|    0.0|    0.0|    0.0|    0.0|    0.0|    0.0|    0.0|    0.0|    0.0|     1.0|     0.0|     0.0|     0.0|     0.0|     0.0|     0.0|     0.0|     0.0|\n",
      "| -0.2916666567325592|               2.0|                        0.0|               490.0|                0.0|  5.64748201438849|             134.5|0.006967363403006967|0.020535386872020535|0.43209876543209874| 0.06813627254509018| 11.80389975951904| 0.989810947195596|    8|    0.0|    0.0|    0.0|    0.0|    0.0|    0.0|    0.0|    0.0|    0.0|    0.0|     0.0|     0.0|     0.0|     0.0|     0.0|     0.0|     1.0|     0.0|     0.0|\n",
      "| -0.2715909058849017|               8.0|                        2.0|                40.0|            0.08408|              5.65|              89.5|                 0.0|0.011111111111111112| 0.9090909090909091| 0.06451612903225806|11.026912903225806|0.9956989247311828|    9|    0.0|    0.0|    0.0|    0.0|    0.0|    0.0|    0.0|    0.0|    0.0|    0.0|     0.0|     0.0|     1.0|     0.0|     0.0|     0.0|     0.0|     0.0|     0.0|\n",
      "| -0.2666666805744171|               7.0|                        0.0|               341.0|                0.0| 6.615763546798029|176.58333333333334|  0.0107981220657277| 0.03051643192488263| 0.5245098039215687| 0.09009009009009009|  12.3625996996997| 0.993885451716777|   10|    0.0|    0.0|    0.0|    0.0|    0.0|    0.0|    0.0|    0.0|    0.0|    0.0|     0.0|     0.0|     0.0|     0.0|     0.0|     0.0|     1.0|     0.0|     0.0|\n",
      "|          -0.2578125|               3.0|                        0.0|                22.0|                0.0|               7.0|             127.0|0.015748031496062992|0.047244094488188976| 0.8333333333333334|                 0.0|           16.2726|               1.0|   11|    0.0|    0.0|    0.0|    0.0|    0.0|    0.0|    0.0|    0.0|    0.0|    0.0|     0.0|     0.0|     1.0|     0.0|     0.0|     0.0|     0.0|     0.0|     0.0|\n",
      "|-0.25722222588956356|              10.0|                        4.0|                74.0|            0.04145| 6.586956521739131|             113.5|0.010917030567685589|0.024017467248908297|               0.75| 0.12162162162162163|           12.4491|0.9944465012958164|   12|    0.0|    0.0|    0.0|    0.0|    0.0|    0.0|    0.0|    0.0|    0.0|    0.0|     0.0|     0.0|     0.0|     0.0|     0.0|     0.0|     1.0|     0.0|     0.0|\n",
      "|  -0.256018524368604|               0.0|                        1.0|               211.0|            0.02195| 6.305084745762712|178.42857142857142|0.006349206349206349| 0.02142857142857143| 0.5684647302904564| 0.08173076923076923|12.094367032967034|0.9894091415830546|   13|    0.0|    0.0|    0.0|    0.0|    0.0|    0.0|    0.0|    0.0|    0.0|    0.0|     0.0|     0.0|     1.0|     0.0|     0.0|     0.0|     0.0|     0.0|     0.0|\n",
      "|               -0.25|               4.0|                        4.0|               133.0|0.06788999999999999| 7.453608247422681|131.71428571428572|0.009698275862068966|0.022629310344827586| 0.6758620689655173|                0.08|15.133094285714288|0.9935483870967742|   14|    0.0|    0.0|    0.0|    0.0|    0.0|    0.0|    0.0|    0.0|    0.0|    0.0|     0.0|     0.0|     0.0|     0.0|     1.0|     0.0|     0.0|     0.0|     0.0|\n",
      "| -0.2395833358168602|              35.0|                       15.0|                80.0|            0.10824| 5.816326530612245|143.33333333333334| 0.02546296296296296| 0.02546296296296296| 0.7303370786516854|  0.1780821917808219|12.846584018264842|0.9939117199391172|   15|    0.0|    0.0|    0.0|    0.0|    0.0|    0.0|    0.0|    0.0|    0.0|    0.0|     0.0|     0.0|     0.0|     0.0|     0.0|     0.0|     1.0|     0.0|     0.0|\n",
      "|-0.22202381225568907|               7.0|                        0.0|               248.0|                0.0| 6.658227848101266| 257.1666666666667| 0.00516795865633075|0.020025839793281652| 0.6333333333333333| 0.04564315352697095|13.753082019363761|0.9926002766251729|   16|    0.0|    0.0|    0.0|    0.0|    0.0|    0.0|    0.0|    0.0|    0.0|    0.0|     0.0|     0.0|     0.0|     0.0|     0.0|     0.0|     1.0|     0.0|     0.0|\n",
      "|            -0.21875|               1.0|                        0.0|               349.0|                0.0| 6.589285714285714|183.16666666666666|0.012217194570135747| 0.01764705882352941|0.48635235732009924| 0.06267806267806268|13.409664672364674|0.9920716320716321|   17|    0.0|    0.0|    0.0|    0.0|    0.0|    1.0|    0.0|    0.0|    0.0|    0.0|     0.0|     0.0|     0.0|     0.0|     0.0|     0.0|     0.0|     0.0|     0.0|\n",
      "|-0.21401134878396988|              11.0|                        4.0|               167.0|0.27273000000000003| 6.541666666666667|             194.2|0.006160164271047228| 0.01642710472279261| 0.7028571428571428|  0.0440251572327044|12.165352327044024| 0.990048563012499|   18|    0.0|    0.0|    0.0|    0.0|    0.0|    0.0|    0.0|    0.0|    0.0|    0.0|     0.0|     0.0|     0.0|     0.0|     0.0|     0.0|     1.0|     0.0|     0.0|\n",
      "|-0.21060606092214584|               0.0|                        5.0|               603.0|            0.24955|6.2979274611398965|          225.9375| 0.00989282769991756|0.027480076944215445| 0.5319767441860465| 0.07167832167832168|13.967217482517484|0.9941398356459652|   19|    0.0|    0.0|    0.0|    0.0|    0.0|    0.0|    0.0|    0.0|    0.0|    0.0|     0.0|     0.0|     0.0|     0.0|     0.0|     0.0|     1.0|     0.0|     0.0|\n",
      "| -0.2043923611442248|              16.0|                       24.0|               118.0|               6.24|6.0476190476190474|            163.75|0.015197568389057751| 0.02127659574468085| 0.7111111111111111| 0.07894736842105263|12.529573684210526|0.9942555503803757|   20|    0.0|    0.0|    0.0|    0.0|    0.0|    0.0|    0.0|    0.0|    0.0|    0.0|     1.0|     0.0|     0.0|     0.0|     0.0|     0.0|     0.0|     0.0|     0.0|\n",
      "+--------------------+------------------+---------------------------+--------------------+-------------------+------------------+------------------+--------------------+--------------------+-------------------+--------------------+------------------+------------------+-----+-------+-------+-------+-------+-------+-------+-------+-------+-------+-------+--------+--------+--------+--------+--------+--------+--------+--------+--------+\n",
      "only showing top 20 rows\n",
      "\n",
      "time: 3.03 s\n"
     ]
    }
   ],
   "source": [
    "# Combine the encodede topic dataframe and the other columns\n",
    "reg_df = reg_df.join(topic_encoded, reg_df.index == topic_encoded.index).select(reg_df[\"*\"],topic_encoded[\"*\"]).drop(topic_encoded.index)\n",
    "\n",
    "reg_df.show()"
   ]
  },
  {
   "cell_type": "code",
   "execution_count": 80,
   "metadata": {
    "scrolled": true
   },
   "outputs": [
    {
     "name": "stdout",
     "output_type": "stream",
     "text": [
      "+--------------------+------------------+---------------------------+--------------------+-------------------+------------------+------------------+---------------------+--------------------+-------------------+--------------------+------------------+------------------+-----+-------+-------+-------+-------+-------+-------+-------+-------+-------+-------+--------+--------+--------+--------+--------+--------+--------+--------+--------+-------------------------------------------------------------------------------------------------------------------------------------------------------------------------------------------------------------------------+\n",
      "|avg_senti_score     |Number of comments|Number of retrieved inlinks|Post Length (#words)|MEIBI score        |meanwl            |meansl            |means                |p                   |TTratio            |dihapax             |D                 |S                 |index|topic_0|topic_1|topic_2|topic_3|topic_4|topic_5|topic_6|topic_7|topic_8|topic_9|topic_10|topic_11|topic_12|topic_13|topic_14|topic_15|topic_16|topic_17|topic_18|features                                                                                                                                                                                                                 |\n",
      "+--------------------+------------------+---------------------------+--------------------+-------------------+------------------+------------------+---------------------+--------------------+-------------------+--------------------+------------------+------------------+-----+-------+-------+-------+-------+-------+-------+-------+-------+-------+-------+--------+--------+--------+--------+--------+--------+--------+--------+--------+-------------------------------------------------------------------------------------------------------------------------------------------------------------------------------------------------------------------------+\n",
      "|-1.0                |4.0               |0.0                        |280.0               |0.0                |5.939024390243903 |235.42857142857142|0.019879518072289156 |0.022289156626506025|0.5014005602240896 |0.061224489795918366|12.164597959183673|0.9923846671774512|1    |0.0    |0.0    |0.0    |0.0    |0.0    |0.0    |0.0    |0.0    |0.0    |0.0    |0.0     |0.0     |0.0     |0.0     |0.0     |0.0     |1.0     |0.0     |0.0     |(31,[0,2,4,5,6,7,8,9,10,11,28],[4.0,280.0,5.939024390243903,235.42857142857142,0.019879518072289156,0.022289156626506025,0.5014005602240896,0.061224489795918366,12.164597959183673,0.9923846671774512,1.0])             |\n",
      "|-0.6500000059604645 |6.0               |6.0                        |173.0               |0.08612            |6.517241379310345 |213.6             |0.009328358208955223 |0.01958955223880597 |0.6296296296296297 |0.10975609756097561 |14.121184878048782|0.9922190632949275|2    |0.0    |0.0    |0.0    |0.0    |0.0    |0.0    |0.0    |0.0    |0.0    |0.0    |0.0     |0.0     |0.0     |0.0     |0.0     |0.0     |1.0     |0.0     |0.0     |(31,[0,1,2,3,4,5,6,7,8,9,10,11,28],[6.0,6.0,173.0,0.08612,6.517241379310345,213.6,0.009328358208955223,0.01958955223880597,0.6296296296296297,0.10975609756097561,14.121184878048782,0.9922190632949275,1.0])            |\n",
      "|-0.5                |2.0               |0.0                        |459.0               |0.0                |5.745098039215686 |162.25            |0.017617770968977403 |0.025277671390271927|0.4072790294627383 |0.07368421052631578 |10.859884210526316|0.9902287363979569|3    |0.0    |0.0    |0.0    |0.0    |0.0    |0.0    |0.0    |0.0    |0.0    |0.0    |0.0     |0.0     |0.0     |0.0     |0.0     |0.0     |0.0     |0.0     |1.0     |(31,[0,2,4,5,6,7,8,9,10,11,30],[2.0,459.0,5.745098039215686,162.25,0.017617770968977403,0.025277671390271927,0.4072790294627383,0.07368421052631578,10.859884210526316,0.9902287363979569,1.0])                          |\n",
      "|-0.5                |4.0               |0.0                        |12.0                |0.0                |5.6               |32.0              |0.03125              |0.03125             |1.0                |0.0                 |19.674500000000002|1.0               |4    |0.0    |0.0    |0.0    |0.0    |0.0    |0.0    |0.0    |0.0    |0.0    |0.0    |0.0     |0.0     |0.0     |0.0     |0.0     |0.0     |0.0     |0.0     |1.0     |(31,[0,2,4,5,6,7,8,10,11,30],[4.0,12.0,5.6,32.0,0.03125,0.03125,1.0,19.674500000000002,1.0,1.0])                                                                                                                         |\n",
      "|-0.45178572088479996|4.0               |1.0                        |449.0               |0.0094             |6.248062015503876 |206.30769230769232|0.011799410029498525 |0.01364306784660767 |0.4526112185686654 |0.06564551422319474 |12.014003854569937|0.9897788782678798|5    |0.0    |0.0    |0.0    |0.0    |0.0    |0.0    |0.0    |0.0    |0.0    |0.0    |0.0     |0.0     |1.0     |0.0     |0.0     |0.0     |0.0     |0.0     |0.0     |(31,[0,1,2,3,4,5,6,7,8,9,10,11,24],[4.0,1.0,449.0,0.0094,6.248062015503876,206.30769230769232,0.011799410029498525,0.01364306784660767,0.4526112185686654,0.06564551422319474,12.014003854569937,0.9897788782678798,1.0])|\n",
      "|-0.4000000059604645 |3.0               |1.0                        |180.0               |0.14815            |6.848214285714286 |373.6666666666667 |0.013357079252003561 |0.02404274265360641 |0.6318407960199005 |0.04597701149425287 |14.680541379310345|0.989768121719487 |6    |0.0    |0.0    |0.0    |0.0    |0.0    |1.0    |0.0    |0.0    |0.0    |0.0    |0.0     |0.0     |0.0     |0.0     |0.0     |0.0     |0.0     |0.0     |0.0     |(31,[0,1,2,3,4,5,6,7,8,9,10,11,17],[3.0,1.0,180.0,0.14815,6.848214285714286,373.6666666666667,0.013357079252003561,0.02404274265360641,0.6318407960199005,0.04597701149425287,14.680541379310345,0.989768121719487,1.0]) |\n",
      "|-0.4000000059604645 |7.0               |5.0                        |121.0               |0.03807            |6.916666666666667 |145.2             |0.0013698630136986301|0.019178082191780823|0.7073170731707317 |0.05357142857142857 |12.64254          |0.9901866151866152|7    |0.0    |0.0    |0.0    |0.0    |0.0    |0.0    |0.0    |0.0    |0.0    |0.0    |1.0     |0.0     |0.0     |0.0     |0.0     |0.0     |0.0     |0.0     |0.0     |(31,[0,1,2,3,4,5,6,7,8,9,10,11,22],[7.0,5.0,121.0,0.03807,6.916666666666667,145.2,0.0013698630136986301,0.019178082191780823,0.7073170731707317,0.05357142857142857,12.64254,0.9901866151866152,1.0])                    |\n",
      "|-0.2916666567325592 |2.0               |0.0                        |490.0               |0.0                |5.64748201438849  |134.5             |0.006967363403006967 |0.020535386872020535|0.43209876543209874|0.06813627254509018 |11.80389975951904 |0.989810947195596 |8    |0.0    |0.0    |0.0    |0.0    |0.0    |0.0    |0.0    |0.0    |0.0    |0.0    |0.0     |0.0     |0.0     |0.0     |0.0     |0.0     |1.0     |0.0     |0.0     |(31,[0,2,4,5,6,7,8,9,10,11,28],[2.0,490.0,5.64748201438849,134.5,0.006967363403006967,0.020535386872020535,0.43209876543209874,0.06813627254509018,11.80389975951904,0.989810947195596,1.0])                             |\n",
      "|-0.2715909058849017 |8.0               |2.0                        |40.0                |0.08408            |5.65              |89.5              |0.0                  |0.011111111111111112|0.9090909090909091 |0.06451612903225806 |11.026912903225806|0.9956989247311828|9    |0.0    |0.0    |0.0    |0.0    |0.0    |0.0    |0.0    |0.0    |0.0    |0.0    |0.0     |0.0     |1.0     |0.0     |0.0     |0.0     |0.0     |0.0     |0.0     |(31,[0,1,2,3,4,5,7,8,9,10,11,24],[8.0,2.0,40.0,0.08408,5.65,89.5,0.011111111111111112,0.9090909090909091,0.06451612903225806,11.026912903225806,0.9956989247311828,1.0])                                                 |\n",
      "|-0.2666666805744171 |7.0               |0.0                        |341.0               |0.0                |6.615763546798029 |176.58333333333334|0.0107981220657277   |0.03051643192488263 |0.5245098039215687 |0.09009009009009009 |12.3625996996997  |0.993885451716777 |10   |0.0    |0.0    |0.0    |0.0    |0.0    |0.0    |0.0    |0.0    |0.0    |0.0    |0.0     |0.0     |0.0     |0.0     |0.0     |0.0     |1.0     |0.0     |0.0     |(31,[0,2,4,5,6,7,8,9,10,11,28],[7.0,341.0,6.615763546798029,176.58333333333334,0.0107981220657277,0.03051643192488263,0.5245098039215687,0.09009009009009009,12.3625996996997,0.993885451716777,1.0])                    |\n",
      "|-0.2578125          |3.0               |0.0                        |22.0                |0.0                |7.0               |127.0             |0.015748031496062992 |0.047244094488188976|0.8333333333333334 |0.0                 |16.2726           |1.0               |11   |0.0    |0.0    |0.0    |0.0    |0.0    |0.0    |0.0    |0.0    |0.0    |0.0    |0.0     |0.0     |1.0     |0.0     |0.0     |0.0     |0.0     |0.0     |0.0     |(31,[0,2,4,5,6,7,8,10,11,24],[3.0,22.0,7.0,127.0,0.015748031496062992,0.047244094488188976,0.8333333333333334,16.2726,1.0,1.0])                                                                                          |\n",
      "|-0.25722222588956356|10.0              |4.0                        |74.0                |0.04145            |6.586956521739131 |113.5             |0.010917030567685589 |0.024017467248908297|0.75               |0.12162162162162163 |12.4491           |0.9944465012958164|12   |0.0    |0.0    |0.0    |0.0    |0.0    |0.0    |0.0    |0.0    |0.0    |0.0    |0.0     |0.0     |0.0     |0.0     |0.0     |0.0     |1.0     |0.0     |0.0     |(31,[0,1,2,3,4,5,6,7,8,9,10,11,28],[10.0,4.0,74.0,0.04145,6.586956521739131,113.5,0.010917030567685589,0.024017467248908297,0.75,0.12162162162162163,12.4491,0.9944465012958164,1.0])                                    |\n",
      "|-0.256018524368604  |0.0               |1.0                        |211.0               |0.02195            |6.305084745762712 |178.42857142857142|0.006349206349206349 |0.02142857142857143 |0.5684647302904564 |0.08173076923076923 |12.094367032967034|0.9894091415830546|13   |0.0    |0.0    |0.0    |0.0    |0.0    |0.0    |0.0    |0.0    |0.0    |0.0    |0.0     |0.0     |1.0     |0.0     |0.0     |0.0     |0.0     |0.0     |0.0     |(31,[1,2,3,4,5,6,7,8,9,10,11,24],[1.0,211.0,0.02195,6.305084745762712,178.42857142857142,0.006349206349206349,0.02142857142857143,0.5684647302904564,0.08173076923076923,12.094367032967034,0.9894091415830546,1.0])     |\n",
      "|-0.25               |4.0               |4.0                        |133.0               |0.06788999999999999|7.453608247422681 |131.71428571428572|0.009698275862068966 |0.022629310344827586|0.6758620689655173 |0.08                |15.133094285714288|0.9935483870967742|14   |0.0    |0.0    |0.0    |0.0    |0.0    |0.0    |0.0    |0.0    |0.0    |0.0    |0.0     |0.0     |0.0     |0.0     |1.0     |0.0     |0.0     |0.0     |0.0     |(31,[0,1,2,3,4,5,6,7,8,9,10,11,26],[4.0,4.0,133.0,0.06788999999999999,7.453608247422681,131.71428571428572,0.009698275862068966,0.022629310344827586,0.6758620689655173,0.08,15.133094285714288,0.9935483870967742,1.0]) |\n",
      "|-0.2395833358168602 |35.0              |15.0                       |80.0                |0.10824            |5.816326530612245 |143.33333333333334|0.02546296296296296  |0.02546296296296296 |0.7303370786516854 |0.1780821917808219  |12.846584018264842|0.9939117199391172|15   |0.0    |0.0    |0.0    |0.0    |0.0    |0.0    |0.0    |0.0    |0.0    |0.0    |0.0     |0.0     |0.0     |0.0     |0.0     |0.0     |1.0     |0.0     |0.0     |(31,[0,1,2,3,4,5,6,7,8,9,10,11,28],[35.0,15.0,80.0,0.10824,5.816326530612245,143.33333333333334,0.02546296296296296,0.02546296296296296,0.7303370786516854,0.1780821917808219,12.846584018264842,0.9939117199391172,1.0])|\n",
      "|-0.22202381225568907|7.0               |0.0                        |248.0               |0.0                |6.658227848101266 |257.1666666666667 |0.00516795865633075  |0.020025839793281652|0.6333333333333333 |0.04564315352697095 |13.753082019363761|0.9926002766251729|16   |0.0    |0.0    |0.0    |0.0    |0.0    |0.0    |0.0    |0.0    |0.0    |0.0    |0.0     |0.0     |0.0     |0.0     |0.0     |0.0     |1.0     |0.0     |0.0     |(31,[0,2,4,5,6,7,8,9,10,11,28],[7.0,248.0,6.658227848101266,257.1666666666667,0.00516795865633075,0.020025839793281652,0.6333333333333333,0.04564315352697095,13.753082019363761,0.9926002766251729,1.0])                |\n",
      "|-0.21875            |1.0               |0.0                        |349.0               |0.0                |6.589285714285714 |183.16666666666666|0.012217194570135747 |0.01764705882352941 |0.48635235732009924|0.06267806267806268 |13.409664672364674|0.9920716320716321|17   |0.0    |0.0    |0.0    |0.0    |0.0    |1.0    |0.0    |0.0    |0.0    |0.0    |0.0     |0.0     |0.0     |0.0     |0.0     |0.0     |0.0     |0.0     |0.0     |(31,[0,2,4,5,6,7,8,9,10,11,17],[1.0,349.0,6.589285714285714,183.16666666666666,0.012217194570135747,0.01764705882352941,0.48635235732009924,0.06267806267806268,13.409664672364674,0.9920716320716321,1.0])              |\n",
      "|-0.21401134878396988|11.0              |4.0                        |167.0               |0.27273000000000003|6.541666666666667 |194.2             |0.006160164271047228 |0.01642710472279261 |0.7028571428571428 |0.0440251572327044  |12.165352327044024|0.990048563012499 |18   |0.0    |0.0    |0.0    |0.0    |0.0    |0.0    |0.0    |0.0    |0.0    |0.0    |0.0     |0.0     |0.0     |0.0     |0.0     |0.0     |1.0     |0.0     |0.0     |(31,[0,1,2,3,4,5,6,7,8,9,10,11,28],[11.0,4.0,167.0,0.27273000000000003,6.541666666666667,194.2,0.006160164271047228,0.01642710472279261,0.7028571428571428,0.0440251572327044,12.165352327044024,0.990048563012499,1.0]) |\n",
      "|-0.21060606092214584|0.0               |5.0                        |603.0               |0.24955            |6.2979274611398965|225.9375          |0.00989282769991756  |0.027480076944215445|0.5319767441860465 |0.07167832167832168 |13.967217482517484|0.9941398356459652|19   |0.0    |0.0    |0.0    |0.0    |0.0    |0.0    |0.0    |0.0    |0.0    |0.0    |0.0     |0.0     |0.0     |0.0     |0.0     |0.0     |1.0     |0.0     |0.0     |(31,[1,2,3,4,5,6,7,8,9,10,11,28],[5.0,603.0,0.24955,6.2979274611398965,225.9375,0.00989282769991756,0.027480076944215445,0.5319767441860465,0.07167832167832168,13.967217482517484,0.9941398356459652,1.0])              |\n",
      "|-0.2043923611442248 |16.0              |24.0                       |118.0               |6.24               |6.0476190476190474|163.75            |0.015197568389057751 |0.02127659574468085 |0.7111111111111111 |0.07894736842105263 |12.529573684210526|0.9942555503803757|20   |0.0    |0.0    |0.0    |0.0    |0.0    |0.0    |0.0    |0.0    |0.0    |0.0    |1.0     |0.0     |0.0     |0.0     |0.0     |0.0     |0.0     |0.0     |0.0     |(31,[0,1,2,3,4,5,6,7,8,9,10,11,22],[16.0,24.0,118.0,6.24,6.0476190476190474,163.75,0.015197568389057751,0.02127659574468085,0.7111111111111111,0.07894736842105263,12.529573684210526,0.9942555503803757,1.0])           |\n",
      "+--------------------+------------------+---------------------------+--------------------+-------------------+------------------+------------------+---------------------+--------------------+-------------------+--------------------+------------------+------------------+-----+-------+-------+-------+-------+-------+-------+-------+-------+-------+-------+--------+--------+--------+--------+--------+--------+--------+--------+--------+-------------------------------------------------------------------------------------------------------------------------------------------------------------------------------------------------------------------------+\n",
      "only showing top 20 rows\n",
      "\n",
      "time: 3.24 s\n"
     ]
    }
   ],
   "source": [
    "# Let us import the vector assembler\n",
    "all_cols = reg_df.columns\n",
    "all_cols.remove('index')\n",
    "indept_cols = all_cols\n",
    "indept_cols.remove('avg_senti_score')\n",
    "\n",
    "assembler = VectorAssembler(inputCols=indept_cols,outputCol=\"features\",handleInvalid='skip')\n",
    "\n",
    "# Now let us use the transform method to transform our dataset\n",
    "raw_data=assembler.transform(reg_df)\n",
    "raw_data.show(truncate=False)"
   ]
  },
  {
   "cell_type": "markdown",
   "metadata": {},
   "source": [
    "#### Standardize"
   ]
  },
  {
   "cell_type": "code",
   "execution_count": 83,
   "metadata": {},
   "outputs": [
    {
     "name": "stdout",
     "output_type": "stream",
     "text": [
      "+--------------------+--------------------+\n",
      "|            features|     Scaled_features|\n",
      "+--------------------+--------------------+\n",
      "|(31,[0,2,4,5,6,7,...|(31,[0,2,4,5,6,7,...|\n",
      "|(31,[0,1,2,3,4,5,...|(31,[0,1,2,3,4,5,...|\n",
      "|(31,[0,2,4,5,6,7,...|(31,[0,2,4,5,6,7,...|\n",
      "|(31,[0,2,4,5,6,7,...|(31,[0,2,4,5,6,7,...|\n",
      "|(31,[0,1,2,3,4,5,...|(31,[0,1,2,3,4,5,...|\n",
      "+--------------------+--------------------+\n",
      "only showing top 5 rows\n",
      "\n",
      "time: 6.05 s\n"
     ]
    }
   ],
   "source": [
    "# Since from above statistics, we find that the the scales of varibales vary a lot, and this will influence the result of\n",
    "#regression, so we do the standardization before regression\n",
    "standardscaler=StandardScaler().setInputCol(\"features\").setOutputCol(\"Scaled_features\")\n",
    "raw_data=standardscaler.fit(raw_data).transform(raw_data)\n",
    "raw_data.select(\"features\",\"Scaled_features\").show(5)"
   ]
  },
  {
   "cell_type": "markdown",
   "metadata": {},
   "source": [
    "#### Train-test split"
   ]
  },
  {
   "cell_type": "code",
   "execution_count": 84,
   "metadata": {},
   "outputs": [
    {
     "name": "stdout",
     "output_type": "stream",
     "text": [
      "time: 16.9 ms\n"
     ]
    }
   ],
   "source": [
    "# Get the dataframe used for regression\n",
    "df_lr = raw_data.select('Scaled_features', 'avg_senti_score')\n",
    "df_lr = df_lr.withColumnRenamed(\"Scaled_features\",\"features\")\n",
    "df_lr = df_lr.withColumnRenamed(\"avg_senti_score\",\"label\")"
   ]
  },
  {
   "cell_type": "code",
   "execution_count": 85,
   "metadata": {},
   "outputs": [
    {
     "name": "stdout",
     "output_type": "stream",
     "text": [
      "time: 20 ms\n"
     ]
    }
   ],
   "source": [
    "train, test = df_lr.randomSplit([0.7, 0.3], seed=2020)"
   ]
  },
  {
   "cell_type": "code",
   "execution_count": 86,
   "metadata": {},
   "outputs": [
    {
     "name": "stdout",
     "output_type": "stream",
     "text": [
      "root\n",
      " |-- features: vector (nullable = true)\n",
      " |-- label: double (nullable = true)\n",
      "\n",
      "time: 1e+03 µs\n"
     ]
    }
   ],
   "source": [
    "train.printSchema()"
   ]
  },
  {
   "cell_type": "markdown",
   "metadata": {},
   "source": [
    "### Below we try to use three different regression techniques:"
   ]
  },
  {
   "cell_type": "markdown",
   "metadata": {},
   "source": [
    "### Linear Regression"
   ]
  },
  {
   "cell_type": "markdown",
   "metadata": {},
   "source": [
    "#### First, we use cross validation to find the best hyper-parameters for the linear regression."
   ]
  },
  {
   "cell_type": "code",
   "execution_count": 87,
   "metadata": {},
   "outputs": [
    {
     "name": "stdout",
     "output_type": "stream",
     "text": [
      "time: 38 s\n"
     ]
    }
   ],
   "source": [
    "evaluator = RegressionEvaluator(metricName=\"mae\")\n",
    "lr = LinearRegression()\n",
    "grid = ParamGridBuilder().addGrid(lr.maxIter, [500]) \\\n",
    "                                .addGrid(lr.regParam, [0]) \\\n",
    "                                .addGrid(lr.elasticNetParam, [1]) \\\n",
    "                                .build()\n",
    "lr_cv = CrossValidator(estimator=lr, estimatorParamMaps=grid, \\\n",
    "                        evaluator=evaluator, numFolds=3)\n",
    "lrModel = lr_cv.fit(train)\n",
    "bestModel = lrModel.bestModel"
   ]
  },
  {
   "cell_type": "code",
   "execution_count": 88,
   "metadata": {
    "scrolled": false
   },
   "outputs": [
    {
     "name": "stdout",
     "output_type": "stream",
     "text": [
      "Best Param (regParam):  0.0\n",
      "Best Param (MaxIter):  500\n",
      "Best Param (elasticNetParam):  1.0\n",
      "time: 1.98 ms\n"
     ]
    }
   ],
   "source": [
    "print('Best Param (regParam): ', bestModel._java_obj.getRegParam())\n",
    "print('Best Param (MaxIter): ', bestModel._java_obj.getMaxIter())\n",
    "print('Best Param (elasticNetParam): ', bestModel._java_obj.getElasticNetParam())"
   ]
  },
  {
   "cell_type": "markdown",
   "metadata": {},
   "source": [
    "#### Then we feed these parameters into the linear regression model."
   ]
  },
  {
   "cell_type": "code",
   "execution_count": 89,
   "metadata": {},
   "outputs": [
    {
     "name": "stdout",
     "output_type": "stream",
     "text": [
      "Root Mean Squared Error (RMSE) on test data = 0.0838456\n",
      "time: 22.4 s\n"
     ]
    }
   ],
   "source": [
    "lr = LinearRegression(featuresCol = 'features', labelCol='label', maxIter=500, regParam=0, elasticNetParam=1)\n",
    "lr_model = lr.fit(train)\n",
    "test_result = lr_model.evaluate(test)\n",
    "print(\"Root Mean Squared Error (RMSE) on test data = %g\" % test_result.rootMeanSquaredError)"
   ]
  },
  {
   "cell_type": "code",
   "execution_count": 95,
   "metadata": {},
   "outputs": [
    {
     "name": "stdout",
     "output_type": "stream",
     "text": [
      "Coefficients: {'Number of comments': -0.008023643767639439, 'Number of retrieved inlinks': 0.0003429311424888498, 'Post Length (#words)': 0.0026070928582002393, 'MEIBI score': -0.0005117084255139149, 'meanwl': 0.005886563956750214, 'meansl': -0.00497742451980379, 'means': -0.003927271018632092, 'p': -0.0018724251738373191, 'TTratio': -0.0006997417106136013, 'dihapax': -0.0005071156218841905, 'D': 0.0035860783743503918, 'S': -0.0034370822219810904, 'topic_0': 0.0, 'topic_1': 0.00024880141926524166, 'topic_2': 0.0, 'topic_3': -0.002132297556777832, 'topic_4': -0.0006217483899352037, 'topic_5': -0.006910810708944812, 'topic_6': -0.0008408980056145487, 'topic_7': 0.000262923065957027, 'topic_8': -0.004387221855288434, 'topic_9': -0.0061310860062500985, 'topic_10': -0.00894986884412383, 'topic_11': -0.0007175952903287266, 'topic_12': -0.008578153765459218, 'topic_13': -0.00287863494361141, 'topic_14': -0.004359186453918525, 'topic_15': -0.006084465919303701, 'topic_16': -0.011525797725052397, 'topic_17': -0.0032818346319272466, 'topic_18': -0.012914711722375554}\n",
      "Intercept: 0.17610412140785284\n",
      "time: 7 ms\n"
     ]
    }
   ],
   "source": [
    "#Display the variable name - coefficient pairs\n",
    "coefs = list(lr_model.coefficients)\n",
    "coefs_dict = {indept_cols[idx]:coefs[idx] for idx in range(len(indept_cols))}\n",
    "print(\"Coefficients: \" + str(coefs_dict))\n",
    "print(\"Intercept: \" + str(lr_model.intercept))"
   ]
  },
  {
   "cell_type": "markdown",
   "metadata": {},
   "source": [
    "### Decision tree regression"
   ]
  },
  {
   "cell_type": "code",
   "execution_count": 96,
   "metadata": {},
   "outputs": [
    {
     "name": "stdout",
     "output_type": "stream",
     "text": [
      "Root Mean Squared Error (RMSE) on test data = 0.0835066\n",
      "time: 9.28 s\n"
     ]
    }
   ],
   "source": [
    "dt = DecisionTreeRegressor(featuresCol ='features', labelCol = 'label')\n",
    "dt_model = dt.fit(train)\n",
    "dt_predictions = dt_model.transform(test)\n",
    "dt_evaluator = RegressionEvaluator(\n",
    "    labelCol=\"label\", predictionCol=\"prediction\", metricName=\"rmse\")\n",
    "rmse = dt_evaluator.evaluate(dt_predictions)\n",
    "print(\"Root Mean Squared Error (RMSE) on test data = %g\" % rmse)"
   ]
  },
  {
   "cell_type": "markdown",
   "metadata": {},
   "source": [
    "### Gradient-boosted tree regression"
   ]
  },
  {
   "cell_type": "code",
   "execution_count": 97,
   "metadata": {
    "scrolled": true
   },
   "outputs": [
    {
     "name": "stdout",
     "output_type": "stream",
     "text": [
      "+-------------------+-------------------+--------------------+\n",
      "|         prediction|              label|            features|\n",
      "+-------------------+-------------------+--------------------+\n",
      "|  0.163946044541538| 0.1219085401722363|(31,[0,1,2,3,4,5,...|\n",
      "| 0.1565488466407375|0.18633132844286807|(31,[0,1,2,3,4,5,...|\n",
      "|0.13874395766493378| 0.3144995210611302|(31,[0,1,2,3,4,5,...|\n",
      "|0.14164489713246697| 0.1464404766995679|(31,[0,1,2,3,4,5,...|\n",
      "|0.14943374163949924| 0.1399631383583734|(31,[0,1,2,3,4,5,...|\n",
      "+-------------------+-------------------+--------------------+\n",
      "only showing top 5 rows\n",
      "\n",
      "time: 17.5 s\n"
     ]
    }
   ],
   "source": [
    "gbt = GBTRegressor(featuresCol = 'features', labelCol = 'label', maxIter=10)\n",
    "gbt_model = gbt.fit(train)\n",
    "gbt_predictions = gbt_model.transform(test)\n",
    "gbt_predictions.select('prediction', 'label', 'features').show(5)"
   ]
  },
  {
   "cell_type": "code",
   "execution_count": 98,
   "metadata": {},
   "outputs": [
    {
     "name": "stdout",
     "output_type": "stream",
     "text": [
      "Root Mean Squared Error (RMSE) on test data = 0.0832831\n",
      "time: 3.17 s\n"
     ]
    }
   ],
   "source": [
    "gbt_evaluator = RegressionEvaluator(\n",
    "    labelCol=\"label\", predictionCol=\"prediction\", metricName=\"rmse\")\n",
    "rmse = gbt_evaluator.evaluate(gbt_predictions)\n",
    "print(\"Root Mean Squared Error (RMSE) on test data = %g\" % rmse)"
   ]
  },
  {
   "cell_type": "markdown",
   "metadata": {},
   "source": [
    "#### Among the above three methond, we found that the decision tree has the lowest Root Mean Squared Error value, so we choose this model."
   ]
  },
  {
   "cell_type": "markdown",
   "metadata": {},
   "source": [
    "### Explore the features that are important for blogs' influence"
   ]
  },
  {
   "cell_type": "code",
   "execution_count": 27,
   "metadata": {
    "scrolled": true
   },
   "outputs": [
    {
     "data": {
      "text/plain": [
       "[(0.11065752757044363, 0),\n",
       " (0.08365202590486413, 1),\n",
       " (0.08333551189486661, 3),\n",
       " (0.0773592872568921, 12),\n",
       " (0.07583293138155231, 2),\n",
       " (0.06864270329624475, 9),\n",
       " (0.06770801421035372, 4),\n",
       " (0.06214688236217471, 5),\n",
       " (0.06178188352074915, 10),\n",
       " (0.05941287042207795, 11),\n",
       " (0.0575779332062285, 7),\n",
       " (0.053972003063482835, 8),\n",
       " (0.04566376686759709, 6),\n",
       " (0.02303727169502505, 18),\n",
       " (0.01677111516969091, 21),\n",
       " (0.01237139988626356, 28),\n",
       " (0.010244684508753366, 22),\n",
       " (0.00869655246142283, 17),\n",
       " (0.00533052239171538, 25),\n",
       " (0.005110659968241901, 24),\n",
       " (0.004669454844473141, 29),\n",
       " (0.002365136259568941, 20),\n",
       " (0.002296335552552195, 26),\n",
       " (0.0013635263047651134, 19),\n",
       " (0.0, 30)]"
      ]
     },
     "execution_count": 27,
     "metadata": {},
     "output_type": "execute_result"
    },
    {
     "name": "stdout",
     "output_type": "stream",
     "text": [
      "time: 30 ms\n"
     ]
    }
   ],
   "source": [
    "# Arraneg the features from most important to least important\n",
    "feat_importance = dt_model.featureImportances.toArray().tolist()\n",
    "feat_importance_dict = {feat_importance[i]:i for i in range(len(feat_importance))}\n",
    "sorted_items = sorted(feat_importance_dict.items(),reverse=True)\n",
    "sorted_items"
   ]
  },
  {
   "cell_type": "code",
   "execution_count": 28,
   "metadata": {},
   "outputs": [
    {
     "data": {
      "text/plain": [
       "{0: 'Number of comments',\n",
       " 1: 'Number of retrieved inlinks',\n",
       " 2: 'Post Length (#words)',\n",
       " 3: 'MEIBI score',\n",
       " 4: 'meanwl',\n",
       " 5: 'meansl',\n",
       " 6: 'means',\n",
       " 7: 'p',\n",
       " 8: 'TTratio',\n",
       " 9: 'dihapax',\n",
       " 10: 'D',\n",
       " 11: 'S',\n",
       " 12: 'topic_0',\n",
       " 13: 'topic_1',\n",
       " 14: 'topic_2',\n",
       " 15: 'topic_3',\n",
       " 16: 'topic_4',\n",
       " 17: 'topic_5',\n",
       " 18: 'topic_6',\n",
       " 19: 'topic_7',\n",
       " 20: 'topic_8',\n",
       " 21: 'topic_9',\n",
       " 22: 'topic_10',\n",
       " 23: 'topic_11',\n",
       " 24: 'topic_12',\n",
       " 25: 'topic_13',\n",
       " 26: 'topic_14',\n",
       " 27: 'topic_15',\n",
       " 28: 'topic_16',\n",
       " 29: 'topic_17',\n",
       " 30: 'topic_18'}"
      ]
     },
     "execution_count": 28,
     "metadata": {},
     "output_type": "execute_result"
    },
    {
     "name": "stdout",
     "output_type": "stream",
     "text": [
      "time: 3 ms\n"
     ]
    }
   ],
   "source": [
    "#Display the variable names corresponding to index\n",
    "cols_dict = {idx:indept_cols[idx] for idx in range(len(indept_cols))}\n",
    "cols_dict"
   ]
  },
  {
   "cell_type": "markdown",
   "metadata": {},
   "source": [
    "#### We set 0.5 as the importance threshold, then we can can tell from above results that features 0(Number of comments), 1(Number of retrieved inlinks), 3(MEIBI score), 12(topic_0), 2(Post Length (#words)), 9(dihapax), 4(meanwl), 5(meansl), 10(D), 11('S'), 7(p), 8(TTratio) are 12 most important features."
   ]
  }
 ],
 "metadata": {
  "kernelspec": {
   "display_name": "Python 3",
   "language": "python",
   "name": "python3"
  },
  "language_info": {
   "codemirror_mode": {
    "name": "ipython",
    "version": 3
   },
   "file_extension": ".py",
   "mimetype": "text/x-python",
   "name": "python",
   "nbconvert_exporter": "python",
   "pygments_lexer": "ipython3",
   "version": "3.7.4"
  }
 },
 "nbformat": 4,
 "nbformat_minor": 2
}
